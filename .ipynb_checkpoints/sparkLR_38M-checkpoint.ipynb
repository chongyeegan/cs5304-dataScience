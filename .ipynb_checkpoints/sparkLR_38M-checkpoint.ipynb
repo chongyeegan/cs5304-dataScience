{
 "cells": [
  {
   "cell_type": "code",
   "execution_count": 1,
   "metadata": {
    "collapsed": true
   },
   "outputs": [],
   "source": [
    "%matplotlib inline"
   ]
  },
  {
   "cell_type": "code",
   "execution_count": null,
   "metadata": {
    "collapsed": true
   },
   "outputs": [],
   "source": [
    "from pyspark import SparkContext, SparkConf\n",
    "from pyspark.mllib.evaluation import BinaryClassificationMetrics\n",
    "from pyspark.mllib.regression import LabeledPoint as DataPoint\n",
    "from pyspark.mllib.classification import LogisticRegressionWithSGD as LogisticRegression\n",
    "import sys\n",
    "from sklearn.metrics import roc_curve\n",
    "import numpy as np\n",
    "import matplotlib.pyplot as plt"
   ]
  },
  {
   "cell_type": "code",
   "execution_count": null,
   "metadata": {
    "collapsed": false
   },
   "outputs": [],
   "source": [
    "TEST_DATA = \"../data/preprocessed_train_5M.csv\"\n",
    "iteration = 100\n",
    "\n",
    "def ParseData(row):\n",
    "    data = [float(feature) for feature in row.split(\",\")]\n",
    "    return DataPoint(data[0], data[1:])\n",
    "    \n",
    "data = sc.textFile(TEST_DATA).map(ParseData)\n",
    "train, test = data.randomSplit([0.8, 0.2], seed = 11L)\n",
    "train.cache()\n",
    "#print train.map(lambda x: x.features).mean()\n",
    "#print train.map(lambda x: x.features).stdev()\n",
    "LR = LogisticRegression.train(train, iteration)\n",
    "predictions = LR.predict(test.map(lambda x: x.features))\n",
    "labelsAndPredictions = test.map(lambda lp: lp.label).zip(predictions)\n",
    "testErr = labelsAndPredictions.filter(lambda (v, p): v != p).count() / float(test.count())\n",
    "print testErr"
   ]
  },
  {
   "cell_type": "code",
   "execution_count": null,
   "metadata": {
    "collapsed": false
   },
   "outputs": [],
   "source": [
    "LR.clearThreshold()\n",
    "scores = LR.predict(test.map(lambda x: x.features))\n",
    "labelsAndScores = test.map(lambda lp: lp.label).zip(scores)\n",
    "labelsAndScores_list = labelsAndScores.collect()\n"
   ]
  },
  {
   "cell_type": "code",
   "execution_count": null,
   "metadata": {
    "collapsed": false
   },
   "outputs": [],
   "source": [
    "labelsAndScores_list = np.array(labelsAndScores_list)"
   ]
  },
  {
   "cell_type": "code",
   "execution_count": null,
   "metadata": {
    "collapsed": false
   },
   "outputs": [],
   "source": [
    "print labelsAndScores_list.shape"
   ]
  },
  {
   "cell_type": "code",
   "execution_count": null,
   "metadata": {
    "collapsed": false
   },
   "outputs": [],
   "source": [
    "tpr, fpr, th = roc_curve(labelsAndScores_list[:,0].flatten(), labelsAndScores_list[:,1].flatten())\n",
    "plt.figure(1)\n",
    "plt.plot(tpr, fpr)"
   ]
  },
  {
   "cell_type": "code",
   "execution_count": null,
   "metadata": {
    "collapsed": false
   },
   "outputs": [],
   "source": [
    "print labelsAndScores_list[:,0].flatten()"
   ]
  },
  {
   "cell_type": "code",
   "execution_count": null,
   "metadata": {
    "collapsed": true
   },
   "outputs": [],
   "source": []
  }
 ],
 "metadata": {
  "kernelspec": {
   "display_name": "Python 2",
   "language": "python",
   "name": "python2"
  },
  "language_info": {
   "codemirror_mode": {
    "name": "ipython",
    "version": 2
   },
   "file_extension": ".py",
   "mimetype": "text/x-python",
   "name": "python",
   "nbconvert_exporter": "python",
   "pygments_lexer": "ipython2",
   "version": "2.7.11"
  }
 },
 "nbformat": 4,
 "nbformat_minor": 0
}
