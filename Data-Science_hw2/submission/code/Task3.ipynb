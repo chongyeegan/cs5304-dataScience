{
 "cells": [
  {
   "cell_type": "code",
   "execution_count": 1,
   "metadata": {
    "collapsed": false
   },
   "outputs": [],
   "source": [
    "import pyspark\n",
    "import math\n",
    "from pyspark.mllib.recommendation import ALS, MatrixFactorizationModel, Rating\n",
    "from settings import *\n",
    "#from pyechonest import config \n",
    "#config.ECHO_NEST_API_KEY\n",
    "#from pyechonest import song\n",
    "\n",
    "\n",
    "#install pyechonest for iPython from \"https://github.com/echonest/pyechonest\"\n"
   ]
  },
  {
   "cell_type": "markdown",
   "metadata": {},
   "source": [
    "# Model Evaluation "
   ]
  },
  {
   "cell_type": "code",
   "execution_count": 2,
   "metadata": {
    "collapsed": false
   },
   "outputs": [],
   "source": [
    "rdd =  sc.textFile(MSD).map(lambda line: line.split('\\t')).map(lambda x: [str(x[0]), str(x[1]), float(x[2])])"
   ]
  },
  {
   "cell_type": "code",
   "execution_count": 3,
   "metadata": {
    "collapsed": false
   },
   "outputs": [],
   "source": [
    "# Creating User Dictionary\n",
    "userDict = rdd.map(lambda x: (x[0], x[1])).reduceByKey(lambda a,b : 1).collectAsMap()\n",
    "userCount = 0\n",
    "for key in userDict.keys():\n",
    "    userDict[key] = userCount\n",
    "    userCount+=1"
   ]
  },
  {
   "cell_type": "code",
   "execution_count": 4,
   "metadata": {
    "collapsed": true
   },
   "outputs": [],
   "source": [
    "# Creating Song Dictionary\n",
    "songDict = rdd.map(lambda x: (x[1], x[0])).reduceByKey(lambda a,b : 1).collectAsMap()\n",
    "songCount = 0\n",
    "for key in songDict.keys():\n",
    "    songDict[key] = songCount\n",
    "    songCount+=1"
   ]
  },
  {
   "cell_type": "code",
   "execution_count": 5,
   "metadata": {
    "collapsed": true
   },
   "outputs": [],
   "source": [
    "# Processing data to structure: Rating(user=62510, product=34148, rating=3.0)\n",
    "train = rdd.zipWithIndex().filter(lambda x: x[-1] < 1000000*0.6).map(lambda x: Rating(userDict[x[0][0]], songDict[x[0][1]], x[0][2]))"
   ]
  },
  {
   "cell_type": "code",
   "execution_count": 6,
   "metadata": {
    "collapsed": false
   },
   "outputs": [
    {
     "name": "stdout",
     "output_type": "stream",
     "text": [
      "600000\n"
     ]
    }
   ],
   "source": [
    "print train.count()"
   ]
  },
  {
   "cell_type": "code",
   "execution_count": 7,
   "metadata": {
    "collapsed": true
   },
   "outputs": [],
   "source": [
    "# Processing validation data\n",
    "validationData = rdd.zipWithIndex().filter(lambda x: x[-1] > 1000000*0.6 and x[-1] < 1000000*0.8 and x[0][0] in userDict)\n",
    "validationData = validationData.map(lambda x: Rating(userDict[x[0][0]], songDict[x[0][1]], x[0][2]))\n",
    "validation = validationData.map(lambda p: (p[0], p[1]))"
   ]
  },
  {
   "cell_type": "code",
   "execution_count": 8,
   "metadata": {
    "collapsed": false
   },
   "outputs": [
    {
     "name": "stdout",
     "output_type": "stream",
     "text": [
      "199999\n"
     ]
    }
   ],
   "source": [
    "print validation.count()"
   ]
  },
  {
   "cell_type": "code",
   "execution_count": 9,
   "metadata": {
    "collapsed": false
   },
   "outputs": [
    {
     "name": "stdout",
     "output_type": "stream",
     "text": [
      "No. of latent factors: 10\t Regulation Parameter: 0.01\n",
      "RMSE = 1.66987305012\n",
      "\n",
      "\n",
      "No. of latent factors: 10\t Regulation Parameter: 0.1\n",
      "RMSE = 1.66818674869\n",
      "\n",
      "\n",
      "No. of latent factors: 10\t Regulation Parameter: 1.0\n",
      "RMSE = 1.67226755025\n",
      "\n",
      "\n",
      "No. of latent factors: 10\t Regulation Parameter: 10.0\n",
      "RMSE = 1.67226890756\n",
      "\n",
      "\n",
      "No. of latent factors: 20\t Regulation Parameter: 0.01\n",
      "RMSE = 1.66668902432\n",
      "\n",
      "\n",
      "No. of latent factors: 20\t Regulation Parameter: 0.1\n",
      "RMSE = 1.65695627574\n",
      "\n",
      "\n",
      "No. of latent factors: 20\t Regulation Parameter: 1.0\n",
      "RMSE = 1.67226599272\n",
      "\n",
      "\n",
      "No. of latent factors: 20\t Regulation Parameter: 10.0\n",
      "RMSE = 1.67226890756\n",
      "\n",
      "\n",
      "No. of latent factors: 30\t Regulation Parameter: 0.01\n",
      "RMSE = 1.64735651008\n",
      "\n",
      "\n",
      "No. of latent factors: 30\t Regulation Parameter: 0.1\n",
      "RMSE = 1.62372194883\n",
      "\n",
      "\n",
      "No. of latent factors: 30\t Regulation Parameter: 1.0\n",
      "RMSE = 1.67226278263\n",
      "\n",
      "\n",
      "No. of latent factors: 30\t Regulation Parameter: 10.0\n",
      "RMSE = 1.67226890756\n",
      "\n",
      "\n",
      "No. of latent factors: 40\t Regulation Parameter: 0.01\n",
      "RMSE = 1.63378871304\n",
      "\n",
      "\n",
      "No. of latent factors: 40\t Regulation Parameter: 0.1\n",
      "RMSE = 1.61281897848\n",
      "\n",
      "\n",
      "No. of latent factors: 40\t Regulation Parameter: 1.0\n",
      "RMSE = 1.67226284536\n",
      "\n",
      "\n",
      "No. of latent factors: 40\t Regulation Parameter: 10.0\n",
      "RMSE = 1.67226890756\n",
      "\n",
      "\n",
      "No. of latent factors: 50\t Regulation Parameter: 0.01\n",
      "RMSE = 1.61849200291\n",
      "\n",
      "\n",
      "No. of latent factors: 50\t Regulation Parameter: 0.1\n",
      "RMSE = 1.61387232278\n",
      "\n",
      "\n",
      "No. of latent factors: 50\t Regulation Parameter: 1.0\n",
      "RMSE = 1.67226067147\n",
      "\n",
      "\n",
      "No. of latent factors: 50\t Regulation Parameter: 10.0\n",
      "RMSE = 1.67226890756\n",
      "\n",
      "\n"
     ]
    }
   ],
   "source": [
    "# Training ALS Model\n",
    "latentFactors = [10,20,30,40,50]\n",
    "numIterations = 15\n",
    "regParameter = [0.01,0.1,1.0,10.0]\n",
    "\n",
    "for i in range(5):\n",
    "    for j in range(4):\n",
    "        model = ALS.trainImplicit(train, latentFactors[i], numIterations, regParameter[j])\n",
    "        predictions = model.predictAll(validation).map(lambda r: ((r[0], r[1]), r[2]))\n",
    "        ratesAndPreds = validationData.map(lambda r: ((r[0], r[1]), r[2])).join(predictions)\n",
    "        RMSE = ratesAndPreds.map(lambda r: math.sqrt((r[1][0] - r[1][1])**2)).mean()\n",
    "        print(\"No. of latent factors: \" + str(latentFactors[i]) + \"\\t Regulation Parameter: \" + str(regParameter[j]))\n",
    "        print(\"RMSE = \" + str(RMSE))\n",
    "        print \"\\n\""
   ]
  },
  {
   "cell_type": "markdown",
   "metadata": {
    "collapsed": true
   },
   "source": [
    "# Model Testing"
   ]
  },
  {
   "cell_type": "code",
   "execution_count": 6,
   "metadata": {
    "collapsed": true
   },
   "outputs": [],
   "source": [
    "# Processing test data\n",
    "\n",
    "validationData = rdd.zipWithIndex().filter(lambda x: x[-1] > 1000000*0.6 and x[-1] < 1000000*0.8 and x[0][0] in userDict)\n",
    "validationData = validationData.map(lambda x: Rating(userDict[x[0][0]], songDict[x[0][1]], x[0][2]))\n",
    "validation = validationData.map(lambda p: (p[0], p[1]))\n",
    "\n",
    "testData = rdd.zipWithIndex().filter(lambda x: x[-1] > 1000000*0.8 and x[-1] < 1000000 and x[0][0] in userDict)\n",
    "testData = testData.map(lambda x: Rating(userDict[x[0][0]], songDict[x[0][1]], x[0][2]))\n",
    "test = testData.map(lambda p: (p[0], p[1]))"
   ]
  },
  {
   "cell_type": "code",
   "execution_count": 20,
   "metadata": {
    "collapsed": false
   },
   "outputs": [
    {
     "name": "stdout",
     "output_type": "stream",
     "text": [
      "199999\n"
     ]
    }
   ],
   "source": [
    "print test.count()"
   ]
  },
  {
   "cell_type": "code",
   "execution_count": 8,
   "metadata": {
    "collapsed": false
   },
   "outputs": [
    {
     "ename": "NameError",
     "evalue": "name 'tesr' is not defined",
     "output_type": "error",
     "traceback": [
      "\u001b[0;31m---------------------------------------------------------------------------\u001b[0m",
      "\u001b[0;31mNameError\u001b[0m                                 Traceback (most recent call last)",
      "\u001b[0;32m<ipython-input-8-f2592406868d>\u001b[0m in \u001b[0;36m<module>\u001b[0;34m()\u001b[0m\n\u001b[1;32m      5\u001b[0m \u001b[0;34m\u001b[0m\u001b[0m\n\u001b[1;32m      6\u001b[0m \u001b[0mmodel\u001b[0m \u001b[0;34m=\u001b[0m \u001b[0mALS\u001b[0m\u001b[0;34m.\u001b[0m\u001b[0mtrainImplicit\u001b[0m\u001b[0;34m(\u001b[0m\u001b[0mtrain\u001b[0m\u001b[0;34m,\u001b[0m \u001b[0mlatentFactors\u001b[0m\u001b[0;34m,\u001b[0m \u001b[0mnumIterations\u001b[0m\u001b[0;34m,\u001b[0m \u001b[0mregParameter\u001b[0m\u001b[0;34m)\u001b[0m\u001b[0;34m\u001b[0m\u001b[0m\n\u001b[0;32m----> 7\u001b[0;31m \u001b[0mpredictions\u001b[0m \u001b[0;34m=\u001b[0m \u001b[0mmodel\u001b[0m\u001b[0;34m.\u001b[0m\u001b[0mpredictAll\u001b[0m\u001b[0;34m(\u001b[0m\u001b[0mtesr\u001b[0m\u001b[0;34m)\u001b[0m\u001b[0;34m.\u001b[0m\u001b[0mmap\u001b[0m\u001b[0;34m(\u001b[0m\u001b[0;32mlambda\u001b[0m \u001b[0mr\u001b[0m\u001b[0;34m:\u001b[0m \u001b[0;34m(\u001b[0m\u001b[0;34m(\u001b[0m\u001b[0mr\u001b[0m\u001b[0;34m[\u001b[0m\u001b[0;36m0\u001b[0m\u001b[0;34m]\u001b[0m\u001b[0;34m,\u001b[0m \u001b[0mr\u001b[0m\u001b[0;34m[\u001b[0m\u001b[0;36m1\u001b[0m\u001b[0;34m]\u001b[0m\u001b[0;34m)\u001b[0m\u001b[0;34m,\u001b[0m \u001b[0mr\u001b[0m\u001b[0;34m[\u001b[0m\u001b[0;36m2\u001b[0m\u001b[0;34m]\u001b[0m\u001b[0;34m)\u001b[0m\u001b[0;34m)\u001b[0m\u001b[0;34m\u001b[0m\u001b[0m\n\u001b[0m\u001b[1;32m      8\u001b[0m \u001b[0mratesAndPreds\u001b[0m \u001b[0;34m=\u001b[0m \u001b[0mtestData\u001b[0m\u001b[0;34m.\u001b[0m\u001b[0mmap\u001b[0m\u001b[0;34m(\u001b[0m\u001b[0;32mlambda\u001b[0m \u001b[0mr\u001b[0m\u001b[0;34m:\u001b[0m \u001b[0;34m(\u001b[0m\u001b[0;34m(\u001b[0m\u001b[0mr\u001b[0m\u001b[0;34m[\u001b[0m\u001b[0;36m0\u001b[0m\u001b[0;34m]\u001b[0m\u001b[0;34m,\u001b[0m \u001b[0mr\u001b[0m\u001b[0;34m[\u001b[0m\u001b[0;36m1\u001b[0m\u001b[0;34m]\u001b[0m\u001b[0;34m)\u001b[0m\u001b[0;34m,\u001b[0m \u001b[0mr\u001b[0m\u001b[0;34m[\u001b[0m\u001b[0;36m2\u001b[0m\u001b[0;34m]\u001b[0m\u001b[0;34m)\u001b[0m\u001b[0;34m)\u001b[0m\u001b[0;34m.\u001b[0m\u001b[0mjoin\u001b[0m\u001b[0;34m(\u001b[0m\u001b[0mpredictions\u001b[0m\u001b[0;34m)\u001b[0m\u001b[0;34m\u001b[0m\u001b[0m\n\u001b[1;32m      9\u001b[0m \u001b[0mRMSE\u001b[0m \u001b[0;34m=\u001b[0m \u001b[0mratesAndPreds\u001b[0m\u001b[0;34m.\u001b[0m\u001b[0mmap\u001b[0m\u001b[0;34m(\u001b[0m\u001b[0;32mlambda\u001b[0m \u001b[0mr\u001b[0m\u001b[0;34m:\u001b[0m \u001b[0mmath\u001b[0m\u001b[0;34m.\u001b[0m\u001b[0msqrt\u001b[0m\u001b[0;34m(\u001b[0m\u001b[0;34m(\u001b[0m\u001b[0mr\u001b[0m\u001b[0;34m[\u001b[0m\u001b[0;36m1\u001b[0m\u001b[0;34m]\u001b[0m\u001b[0;34m[\u001b[0m\u001b[0;36m0\u001b[0m\u001b[0;34m]\u001b[0m \u001b[0;34m-\u001b[0m \u001b[0mr\u001b[0m\u001b[0;34m[\u001b[0m\u001b[0;36m1\u001b[0m\u001b[0;34m]\u001b[0m\u001b[0;34m[\u001b[0m\u001b[0;36m1\u001b[0m\u001b[0;34m]\u001b[0m\u001b[0;34m)\u001b[0m\u001b[0;34m**\u001b[0m\u001b[0;36m2\u001b[0m\u001b[0;34m)\u001b[0m\u001b[0;34m)\u001b[0m\u001b[0;34m.\u001b[0m\u001b[0mmean\u001b[0m\u001b[0;34m(\u001b[0m\u001b[0;34m)\u001b[0m\u001b[0;34m\u001b[0m\u001b[0m\n",
      "\u001b[0;31mNameError\u001b[0m: name 'tesr' is not defined"
     ]
    }
   ],
   "source": [
    "# Training ALS Model\n",
    "latentFactors = 40\n",
    "numIterations = 25\n",
    "regParameter = 0.1\n",
    "\n",
    "model = ALS.trainImplicit(train, latentFactors, numIterations, regParameter)\n",
    "predictions = model.predictAll(test).map(lambda r: ((r[0], r[1]), r[2]))\n",
    "ratesAndPreds = testData.map(lambda r: ((r[0], r[1]), r[2])).join(predictions)\n",
    "RMSE = ratesAndPreds.map(lambda r: math.sqrt((r[1][0] - r[1][1])**2)).mean()\n",
    "print(\"No. of latent factors: \" + str(latentFactors) + \"\\t Regulation Parameter: \" + str(regParameter))\n",
    "print(\"RMSE = \" + str(RMSE))"
   ]
  },
  {
   "cell_type": "code",
   "execution_count": null,
   "metadata": {
    "collapsed": true
   },
   "outputs": [],
   "source": []
  },
  {
   "cell_type": "code",
   "execution_count": 9,
   "metadata": {
    "collapsed": false
   },
   "outputs": [
    {
     "name": "stdout",
     "output_type": "stream",
     "text": [
      "No. of latent factors: 40\t Regulation Parameter: 0.1\n",
      "RMSE = 0.0\n"
     ]
    }
   ],
   "source": [
    "predictions = model.predictAll(test).map(lambda r: ((r[0], r[1]), r[2]))\n",
    "ratesAndPreds = testData.map(lambda r: ((r[0], r[1]), r[2])).join(predictions)\n",
    "RMSE = ratesAndPreds.map(lambda r: math.sqrt((r[1][0] - r[1][1])**2)).mean()\n",
    "print(\"No. of latent factors: \" + str(latentFactors) + \"\\t Regulation Parameter: \" + str(regParameter))\n",
    "print(\"RMSE = \" + str(RMSE))"
   ]
  },
  {
   "cell_type": "markdown",
   "metadata": {},
   "source": [
    "# Song Recommendation"
   ]
  },
  {
   "cell_type": "code",
   "execution_count": 14,
   "metadata": {
    "collapsed": false
   },
   "outputs": [
    {
     "name": "stdout",
     "output_type": "stream",
     "text": [
      "No. of latent factors: 10\t Regulation Parameter: 0.1\n",
      "RMSE = 1.80740423592\n",
      "\n",
      "\n"
     ]
    }
   ],
   "source": [
    "# Loading Best 10M_ALS Model\n",
    "\n",
    "#model = MatrixFactorizationModel.load(sc, \"./MSD_ALS\")\n",
    "latentFactors = 40\n",
    "numIterations = 25\n",
    "regParameter = 0.1\n",
    "\n",
    "model = ALS.trainImplicit(train, latentFactors, numIterations, regParameter)\n",
    "predictions = model.predictAll(validation).map(lambda r: ((r[0], r[1]), r[2]))\n",
    "ratesAndPreds = validationData.map(lambda r: ((r[0], r[1]), r[2])).join(predictions)\n",
    "RMSE = ratesAndPreds.map(lambda r: math.sqrt((r[1][0] - r[1][1])**2)).mean()\n",
    "print(\"No. of latent factors: \" + str(latentFactors) + \"\\t Regulation Parameter: \" + str(regParameter))\n",
    "print(\"RMSE = \" + str(RMSE))\n",
    "print \"\\n\""
   ]
  },
  {
   "cell_type": "code",
   "execution_count": 10,
   "metadata": {
    "collapsed": true
   },
   "outputs": [],
   "source": [
    "testUser = train.first()[0]"
   ]
  },
  {
   "cell_type": "code",
   "execution_count": 11,
   "metadata": {
    "collapsed": true
   },
   "outputs": [],
   "source": [
    "traindict = train.map(lambda data: (data[0], [data[1]])).reduceByKey(lambda a,b: a+b).collectAsMap()"
   ]
  },
  {
   "cell_type": "code",
   "execution_count": 12,
   "metadata": {
    "collapsed": true
   },
   "outputs": [],
   "source": [
    "# Create recommended songs that user have not heard before\n",
    "\n",
    "topSongs = model.recommendProducts(testUser, 100)\n",
    "filteredSongs = []\n",
    "for row in topSongs:\n",
    "    if not row[1] in traindict[row[0]]:\n",
    "        filteredSongs.append(row)\n"
   ]
  },
  {
   "cell_type": "code",
   "execution_count": 13,
   "metadata": {
    "collapsed": false
   },
   "outputs": [
    {
     "name": "stdout",
     "output_type": "stream",
     "text": [
      "['SOYIJIL12A6701F1C1']\n",
      "['SOMYECL12A6701D9C8']\n",
      "['SOJSTYO12A8C13F200']\n",
      "['SOSPXWA12AB0181875']\n",
      "['SOERYLG12A6701F07F']\n",
      "['SOAYTRA12A8C136D0E']\n",
      "['SOXDQPZ12A8C13F4FC']\n",
      "['SOJJKTR12A6701F083']\n",
      "['SOUMOMJ12A6701DFDC']\n",
      "['SOOABBO12A6701DFDA']\n",
      "['SODBMRI12A8151AF45']\n",
      "['SOCZTMT12AF72A078E']\n",
      "['SOOGZYY12A6701D9CB']\n",
      "['SOKLVUI12A6701BF1B']\n",
      "['SOENRRU12A6701BF1A']\n",
      "['SOGCDYR12AC961854A']\n",
      "['SOKUTUM12A6701D9CD']\n",
      "['SOYDOZE12A6701FC22']\n",
      "['SODJKMC12A8C137EC0']\n",
      "['SOHGBHN12A6701F082']\n",
      "['SOOQPIK12A6701F1C5']\n",
      "['SOBNTFK12A6701F1CF']\n",
      "['SODRJZO12AC4684FF6']\n",
      "['SONCOJJ12A6701FC24']\n",
      "['SOQLVIT12A8C137EA2']\n",
      "['SOVGLTY12AF72A39CD']\n",
      "['SOSRERB12A8C139735']\n",
      "['SOJHVSF12A6701F084']\n",
      "['SOKHHXJ12AF72A5325']\n",
      "['SOHTSKK12A6701F07C']\n",
      "['SOKMXEQ12A6D4F6AA8']\n",
      "['SOISXVJ12A6701F1CD']\n",
      "['SOBZCUC12A58A7D9AD']\n",
      "['SOIUITF12A58A7D86C']\n",
      "['SOAJNYK12AF729F33B']\n",
      "['SOLLBAK12A6D4F6AA7']\n",
      "['SOQPQWL12A58A7B964']\n",
      "['SOBLIPF12AF729F53E']\n",
      "['SOPBTDA12A58A7B7C3']\n",
      "['SOVPAJA12A58A77B15']\n",
      "['SOJJDYI12A6701FC23']\n",
      "['SOPZHFK12A8C135493']\n",
      "['SOUDQDW12AF729F367']\n",
      "['SOJNHAY12B0B80C22C']\n",
      "['SONYKOW12AB01849C9']\n",
      "['SONLMVG12AF72A6D21']\n",
      "['SOSPNEM12AF729CD34']\n",
      "['SORAFOS12A6D4F7B49']\n",
      "['SOIJHHU12AF7299A88']\n",
      "['SOMXCYY12AF72A152E']\n",
      "['SOSHAER12AC3DF80F7']\n",
      "['SODJWHY12A8C142CCE']\n",
      "['SOFDEVS12A8C137EB0']\n",
      "['SOGVQBT12AB018D669']\n",
      "['SONTCHV12AF72A9F66']\n",
      "['SOAXGDH12A8C13F8A1']\n",
      "['SOLFXKT12AB017E3E0']\n",
      "['SOUGDBK12AAA8C856A']\n",
      "['SODLCUP12A8C1324F8']\n",
      "['SODIKIZ12A8C137EBC']\n",
      "['SOTYMXH12AB0184243']\n",
      "['SOTINBX12A58A7D594']\n",
      "['SOWCKVR12A8C142411']\n",
      "['SOGTFTU12AAA8C8553']\n",
      "['SOSGQJF12A58A7F4A6']\n",
      "['SOEYXUA12B0B80C235']\n",
      "['SOWGZFG12A8151AF41']\n",
      "['SOTWNDJ12A8C143984']\n",
      "['SOBCVZT12AF72A4506']\n",
      "['SOBOAFP12A8C131F36']\n",
      "['SOUFPNI12A8C142D19']\n",
      "['SOOEEAQ12A8AE46374']\n",
      "['SOEWJFS12AF729FFCD']\n",
      "['SOHMJJQ12AF72AD2A2']\n",
      "['SOXNZOW12AB017F756']\n",
      "['SOMYSDQ12AB0183042']\n",
      "['SOUSMXX12AB0185C24']\n",
      "['SOSDRTG12A8AE46382']\n",
      "['SOKYJOP12A6701FC21']\n",
      "['SONOZCX12AB017F75E']\n",
      "['SODPPDY12AB017F767']\n",
      "['SOKLRPJ12A8C13C3FE']\n",
      "['SOTHABI12A58A7DACB']\n",
      "['SOMSWGY12AB017F755']\n",
      "['SOPUCYA12A8C13A694']\n",
      "['SOVJHCB12A8AE4636E']\n",
      "['SOBWFXM12AB0182808']\n",
      "['SOKUFKO12AB017F75F']\n",
      "['SOELNXT12AB017F764']\n",
      "['SOKUPAO12AB018D576']\n",
      "['SOPPROJ12AB0184E18']\n"
     ]
    }
   ],
   "source": [
    "for row in filteredSongs:\n",
    "    print [key for key, value in songDict.iteritems() if value == row[1]]"
   ]
  },
  {
   "cell_type": "code",
   "execution_count": null,
   "metadata": {
    "collapsed": true
   },
   "outputs": [],
   "source": [
    "# Print out filtered Movies as string (names)\n",
    "#for i in range(5):\n",
    "#    print song.Song(filteredSongs[i])"
   ]
  },
  {
   "cell_type": "code",
   "execution_count": null,
   "metadata": {
    "collapsed": true
   },
   "outputs": [],
   "source": []
  }
 ],
 "metadata": {
  "kernelspec": {
   "display_name": "Python 2",
   "language": "python",
   "name": "python2"
  },
  "language_info": {
   "codemirror_mode": {
    "name": "ipython",
    "version": 2
   },
   "file_extension": ".py",
   "mimetype": "text/x-python",
   "name": "python",
   "nbconvert_exporter": "python",
   "pygments_lexer": "ipython2",
   "version": "2.7.11"
  }
 },
 "nbformat": 4,
 "nbformat_minor": 0
}
