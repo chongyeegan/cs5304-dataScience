{
 "cells": [
  {
   "cell_type": "code",
   "execution_count": 1,
   "metadata": {
    "collapsed": true
   },
   "outputs": [],
   "source": [
    "import pyspark\n",
    "from pyspark.mllib.recommendation import ALS, MatrixFactorizationModel, Rating\n",
    "from settings import *\n",
    "import math"
   ]
  },
  {
   "cell_type": "markdown",
   "metadata": {},
   "source": [
    "# Read data, Split to train test"
   ]
  },
  {
   "cell_type": "code",
   "execution_count": 2,
   "metadata": {
    "collapsed": false
   },
   "outputs": [],
   "source": [
    "# Sorting data by time\n",
    "rdd =  sc.textFile(RATINGS_10M).map(lambda line: [float(x) for x in line.split('::')]).sortBy(lambda x: x[3],False)\n",
    "size = rdd.count()"
   ]
  },
  {
   "cell_type": "code",
   "execution_count": 3,
   "metadata": {
    "collapsed": true
   },
   "outputs": [],
   "source": [
    "# Processing data to structure: Rating(user=62510, product=34148, rating=3.0)\n",
    "train = rdd.zipWithIndex().filter(lambda x: x[-1] < size*0.6).map(lambda x: Rating(int(x[0][0]), int(x[0][1]), x[0][2]))\n",
    "testdata = rdd.zipWithIndex().filter(lambda x: x[-1] > size*0.6).map(lambda x: Rating(int(x[0][0]), int(x[0][1]), x[0][2]))"
   ]
  },
  {
   "cell_type": "markdown",
   "metadata": {},
   "source": [
    "# Compute user bias"
   ]
  },
  {
   "cell_type": "code",
   "execution_count": 4,
   "metadata": {
    "collapsed": false
   },
   "outputs": [],
   "source": [
    "score_mean = train.map(lambda data: data[2]).mean()\n",
    "user_bias = train.map(lambda data: (data[0], data[2] - score_mean)).groupByKey().map(lambda data: (data[0], sum(data[1])/len(data[1]))).collectAsMap()"
   ]
  },
  {
   "cell_type": "markdown",
   "metadata": {},
   "source": [
    "# Compute movie bias"
   ]
  },
  {
   "cell_type": "code",
   "execution_count": 5,
   "metadata": {
    "collapsed": false
   },
   "outputs": [],
   "source": [
    "movie_bias = train.map(lambda data: (data[1], data[2] - score_mean - user_bias[data[0]])).groupByKey().map(lambda data: (data[0], sum(data[1])/len(data[1]))).collectAsMap()"
   ]
  },
  {
   "cell_type": "code",
   "execution_count": 6,
   "metadata": {
    "collapsed": false
   },
   "outputs": [],
   "source": [
    "train_rm_user = train.map(lambda rating: Rating(rating.user, rating.product, rating.rating - user_bias[rating.user]))\n",
    "train_rm_movie = train.map(lambda rating: Rating(rating.user, rating.product, rating.rating - user_bias[rating.user] - movie_bias[rating.product]))\n"
   ]
  },
  {
   "cell_type": "code",
   "execution_count": 7,
   "metadata": {
    "collapsed": false
   },
   "outputs": [
    {
     "name": "stdout",
     "output_type": "stream",
     "text": [
      "Rating(user=62510, product=34148, rating=3.0)\n",
      "Rating(user=62510, product=34148, rating=2.5208408027796696)\n",
      "Rating(user=62510, product=34148, rating=2.289214762263664)\n"
     ]
    }
   ],
   "source": [
    "#print movie_count\n",
    "#print movie_score_bias_sum\n",
    "#print movie_bias\n",
    "print train.first()\n",
    "print train_rm_user.first()\n",
    "print train_rm_movie.first()"
   ]
  },
  {
   "cell_type": "markdown",
   "metadata": {},
   "source": [
    "# Model Evaluation - removed user bias"
   ]
  },
  {
   "cell_type": "code",
   "execution_count": 8,
   "metadata": {
    "collapsed": true
   },
   "outputs": [],
   "source": [
    "test = testdata.map(lambda p: (p[0], p[1]))"
   ]
  },
  {
   "cell_type": "code",
   "execution_count": 9,
   "metadata": {
    "collapsed": true
   },
   "outputs": [],
   "source": [
    "# Training ALS Model\n",
    "latentFactors = 10\n",
    "numIterations = 25\n",
    "regParameter = 0.1\n",
    "\n",
    "model = ALS.train(train_rm_user, latentFactors, numIterations, regParameter)"
   ]
  },
  {
   "cell_type": "code",
   "execution_count": 10,
   "metadata": {
    "collapsed": false
   },
   "outputs": [],
   "source": [
    "predictions = model.predictAll(test).map(lambda r: ((r[0], r[1]), r[2]))\n",
    "ratesAndPreds = testdata.map(lambda r: ((r[0], r[1]), r[2])).join(predictions)"
   ]
  },
  {
   "cell_type": "code",
   "execution_count": 11,
   "metadata": {
    "collapsed": false
   },
   "outputs": [
    {
     "name": "stdout",
     "output_type": "stream",
     "text": [
      "Root Mean Squared Error = 0.78307085766\n"
     ]
    }
   ],
   "source": [
    "RMSE = ratesAndPreds.map(lambda r: math.sqrt((r[1][0] - r[1][1])**2)).mean()\n",
    "print(\"Root Mean Squared Error = \" + str(RMSE))"
   ]
  },
  {
   "cell_type": "markdown",
   "metadata": {},
   "source": [
    "# Recommendation System"
   ]
  },
  {
   "cell_type": "code",
   "execution_count": 8,
   "metadata": {
    "collapsed": false
   },
   "outputs": [
    {
     "name": "stdout",
     "output_type": "stream",
     "text": [
      "62510\n"
     ]
    }
   ],
   "source": [
    "# Trying recommendation System \n",
    "\n",
    "testUsers = train_rm_user.first()[0]\n",
    "print testUsers"
   ]
  },
  {
   "cell_type": "code",
   "execution_count": 9,
   "metadata": {
    "collapsed": false
   },
   "outputs": [],
   "source": [
    "traindict = train.map(lambda data: (data[0], [data[1]])).reduceByKey(lambda a,b: a+b).collectAsMap()"
   ]
  },
  {
   "cell_type": "code",
   "execution_count": 10,
   "metadata": {
    "collapsed": false
   },
   "outputs": [],
   "source": [
    "# Creat recommended movies that user have not watched before\n",
    "topMovies = model.recommendProducts(testUsers, 100)\n",
    "filteredMovies = []\n",
    "for row in topMovies:\n",
    "    if not row[1] in traindict[row[0]]:\n",
    "        filteredMovies.append(row)\n"
   ]
  },
  {
   "cell_type": "code",
   "execution_count": 11,
   "metadata": {
    "collapsed": false
   },
   "outputs": [
    {
     "name": "stdout",
     "output_type": "stream",
     "text": [
      "Shadows of Forgotten Ancestors (1964)\n",
      "Satan's Tango (Sátántangó) (1994)\n",
      "More (1998)\n",
      "Sun Shines Bright, The (1953)\n",
      "Man Who Planted Trees, The (Homme qui plantait des arbres, L') (1987)\n"
     ]
    }
   ],
   "source": [
    "# Print out filtered Movies as string (names)\n",
    "movies10M_dict =  sc.textFile(MOVIES_10M).map(lambda line: line.split('::')).map(lambda x: (float(x[0]), x[1])).collectAsMap()\n",
    "\n",
    "for i in range(5):\n",
    "    print movies10M_dict[filteredMovies[i][1]]"
   ]
  },
  {
   "cell_type": "code",
   "execution_count": null,
   "metadata": {
    "collapsed": true
   },
   "outputs": [],
   "source": []
  }
 ],
 "metadata": {
  "kernelspec": {
   "display_name": "Python 2",
   "language": "python",
   "name": "python2"
  },
  "language_info": {
   "codemirror_mode": {
    "name": "ipython",
    "version": 2
   },
   "file_extension": ".py",
   "mimetype": "text/x-python",
   "name": "python",
   "nbconvert_exporter": "python",
   "pygments_lexer": "ipython2",
   "version": "2.7.11"
  }
 },
 "nbformat": 4,
 "nbformat_minor": 0
}
