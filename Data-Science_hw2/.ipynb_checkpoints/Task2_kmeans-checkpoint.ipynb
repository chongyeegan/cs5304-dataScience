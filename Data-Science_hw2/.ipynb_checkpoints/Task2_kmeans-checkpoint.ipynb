{
 "cells": [
  {
   "cell_type": "code",
   "execution_count": 1,
   "metadata": {
    "collapsed": true
   },
   "outputs": [],
   "source": [
    "import pyspark\n",
    "from pyspark.mllib.recommendation import ALS, MatrixFactorizationModel, Rating\n",
    "from pyspark.mllib.clustering import KMeans, KMeansModel\n",
    "from settings import *"
   ]
  },
  {
   "cell_type": "markdown",
   "metadata": {},
   "source": [
    "# Read data, Split to train test"
   ]
  },
  {
   "cell_type": "code",
   "execution_count": 2,
   "metadata": {
    "collapsed": false
   },
   "outputs": [],
   "source": [
    "# Sorting data by time\n",
    "rdd =  sc.textFile(RATINGS_10M).map(lambda line: [float(x) for x in line.split('::')]).sortBy(lambda x: x[3],False)\n",
    "size = rdd.count()"
   ]
  },
  {
   "cell_type": "code",
   "execution_count": 3,
   "metadata": {
    "collapsed": false
   },
   "outputs": [
    {
     "name": "stdout",
     "output_type": "stream",
     "text": [
      "read data finished\n"
     ]
    }
   ],
   "source": [
    "# Processing data to structure: Rating(user=62510, product=34148, rating=3.0)\n",
    "train = rdd.zipWithIndex().filter(lambda x: x[-1] < size*0.6).map(lambda x: Rating(int(x[0][0]), int(x[0][1]), x[0][2]))\n",
    "testdata = rdd.zipWithIndex().filter(lambda x: x[-1] > size*0.6).map(lambda x: Rating(int(x[0][0]), int(x[0][1]), x[0][2]))\n",
    "print \"read data finished\""
   ]
  },
  {
   "cell_type": "markdown",
   "metadata": {},
   "source": [
    "# KMeans"
   ]
  },
  {
   "cell_type": "code",
   "execution_count": 8,
   "metadata": {
    "collapsed": false
   },
   "outputs": [
    {
     "name": "stdout",
     "output_type": "stream",
     "text": [
      "train user\n",
      "train cluster\n",
      "train finished\n"
     ]
    }
   ],
   "source": [
    "user_train = rdd.zipWithIndex().filter(lambda x: x[-1] < size*0.6).map(lambda x: (x[0][0], float(x[0][2]))).groupByKey()\n",
    "product_train = rdd.zipWithIndex().filter(lambda x: x[-1] < size*0.6).map(lambda x: (x[0][1], float(x[0][2]))).groupByKey()\n",
    "print \"train user\"\n",
    "user_clusters = KMeans.train(user_train, int(len(user_bias)/2), maxIterations=20, initializationMode=\"random\")\n",
    "print \"train cluster\"\n",
    "product_clusters = KMeans.train(product_train, int(len(movie_bias)/2), maxIterations=20, initializationMode=\"random\")\n",
    "\n",
    "print \"train finished\""
   ]
  },
  {
   "cell_type": "code",
   "execution_count": null,
   "metadata": {
    "collapsed": false
   },
   "outputs": [],
   "source": [
    "def convert(data):\n",
    "    user = predict((data[0], float(data[2])), user_clusters)\n",
    "    product = predict((data[1], float(user[1])), product_clusters)\n",
    "    return \"::\".join( (str(user[0]), str(product[0]), str(product[1])) )\n",
    "def predict(point, clusters):\n",
    "    category = clusters.predict(point)\n",
    "    center = clusters.centers[category]\n",
    "    #print category\n",
    "    return (category, center[1])\n",
    "train_reduce = rdd.zipWithIndex().filter(lambda x: x[-1] < size*0.6)\\\n",
    "        .map(lambda x: (x[0][0], x[0][1], x[0][2])).map(convert)#.map(lambda x: Rating(int(x[0]), int(x[1]), x[2]))\n",
    "validate_reduce = rdd.zipWithIndex().filter(lambda x: size*0.6<=x[-1] < size*0.8)\\\n",
    "        .map(lambda x: (x[0][0], x[0][1], x[0][2])).map(convert)#.map(lambda x: Rating(int(x[0]), int(x[1]), x[2]))\n",
    "test_reduce = rdd.zipWithIndex().filter(lambda x: size*0.6<=x[-1] < size*0.8)\\\n",
    "        .map(lambda x: (x[0][0], x[0][1], x[0][2])).map(convert)#.map(lambda x: Rating(int(x[0]), int(x[1]), x[2]))"
   ]
  },
  {
   "cell_type": "code",
   "execution_count": 13,
   "metadata": {
    "collapsed": false
   },
   "outputs": [
    {
     "name": "stdout",
     "output_type": "stream",
     "text": [
      "save model\n"
     ]
    }
   ],
   "source": [
    "print \"save model\"\n",
    "user_clusters.save(sc, \"user_Model\")\n",
    "product_clusters.save(sc, \"product_Model\")"
   ]
  },
  {
   "cell_type": "code",
   "execution_count": null,
   "metadata": {
    "collapsed": false
   },
   "outputs": [
    {
     "name": "stdout",
     "output_type": "stream",
     "text": [
      "save data\n",
      "save train\n"
     ]
    }
   ],
   "source": [
    "print \"save data\"\n",
    "print \"save train\"\n",
    "train_reduce.cache()\n",
    "train_reduce.saveAsTextFile(\"train\")\n",
    "'''\n",
    "train_reduce_list = train_reduce.collect()\n",
    "with open(DATA_FOLDER + \"train.dat\", \"wb\") as f:\n",
    "    for rating in train_reduce_list:\n",
    "        f.write(str(rating.user) + \"::\" + str(rating.product) + \"::\" + str(rating.rating) + \"\\n\")\n",
    "'''\n",
    "print \"save train finished\"      "
   ]
  },
  {
   "cell_type": "code",
   "execution_count": null,
   "metadata": {
    "collapsed": true
   },
   "outputs": [],
   "source": [
    "print \"save validate\"\n",
    "validate_reduce.cache()\n",
    "validate_reduce_list = validate_reduce.collect()\n",
    "with open(DATA_FOLDER + \"validate.dat\", \"wb\") as f:\n",
    "    for rating in validate_reduce:\n",
    "        f.write(str(rating.user) + \"::\" + str(rating.product) + \"::\" + str(rating.rating) + \"\\n\")\n",
    "print \"save validate finished\"        "
   ]
  },
  {
   "cell_type": "code",
   "execution_count": null,
   "metadata": {
    "collapsed": false
   },
   "outputs": [],
   "source": [
    "print \"save test\"\n",
    "test_reduce.cache()\n",
    "test_reduce = test_reduce.collect()\n",
    "with open(DATA_FOLDER + \"test.dat\", \"wb\") as f:\n",
    "    for rating in test_reduce:\n",
    "        f.write(str(rating.user) + \"::\" + str(rating.product) + \"::\" + str(rating.rating) + \"\\n\")\n",
    "print \"save test finished\""
   ]
  },
  {
   "cell_type": "code",
   "execution_count": null,
   "metadata": {
    "collapsed": true
   },
   "outputs": [],
   "source": [
    "print train_reduce.first()"
   ]
  }
 ],
 "metadata": {
  "kernelspec": {
   "display_name": "Python 2",
   "language": "python",
   "name": "python2"
  },
  "language_info": {
   "codemirror_mode": {
    "name": "ipython",
    "version": 2
   },
   "file_extension": ".py",
   "mimetype": "text/x-python",
   "name": "python",
   "nbconvert_exporter": "python",
   "pygments_lexer": "ipython2",
   "version": "2.7.11"
  }
 },
 "nbformat": 4,
 "nbformat_minor": 0
}
