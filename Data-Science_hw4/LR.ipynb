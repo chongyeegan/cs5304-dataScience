{
 "cells": [
  {
   "cell_type": "code",
   "execution_count": 13,
   "metadata": {
    "collapsed": false
   },
   "outputs": [
    {
     "name": "stdout",
     "output_type": "stream",
     "text": [
      "Populating the interactive namespace from numpy and matplotlib\n"
     ]
    },
    {
     "name": "stderr",
     "output_type": "stream",
     "text": [
      "WARNING: pylab import has clobbered these variables: ['f']\n",
      "`%matplotlib` prevents importing * from pylab and numpy\n"
     ]
    }
   ],
   "source": [
    "%pylab inline"
   ]
  },
  {
   "cell_type": "code",
   "execution_count": 14,
   "metadata": {
    "collapsed": true
   },
   "outputs": [],
   "source": [
    "from sklearn.externals.joblib import Memory\n",
    "from sklearn.datasets import load_svmlight_file\n",
    "from sklearn.linear_model import LogisticRegression\n",
    "#from sklearn.linear_model import SGDClassifier as LogisticRegression\n",
    "from sklearn.cross_validation import StratifiedShuffleSplit\n",
    "from sklearn.metrics import roc_curve, auc, brier_score_loss\n",
    "import matplotlib.pyplot as plt\n",
    "import matplotlib\n",
    "from multiprocessing import cpu_count\n",
    "from sklearn.calibration import CalibratedClassifierCV\n",
    "from sklearn.metrics import log_loss\n",
    "import numpy as np\n",
    "import pickle"
   ]
  },
  {
   "cell_type": "code",
   "execution_count": 15,
   "metadata": {
    "collapsed": false
   },
   "outputs": [
    {
     "name": "stdout",
     "output_type": "stream",
     "text": [
      "use cpu: 27\n",
      "loading train data\n",
      "loading validation data\n",
      "loading test data\n",
      "loading data finished\n"
     ]
    }
   ],
   "source": [
    "mem = Memory(\"./LRcache\")\n",
    "use_cpu = int(cpu_count() *3.0  / 4)\n",
    "print \"use cpu:\", use_cpu\n",
    "@mem.cache\n",
    "def get_data(file_name):\n",
    "    data = load_svmlight_file(file_name)\n",
    "    return data[0], data[1]\n",
    "\n",
    "print \"loading train data\"\n",
    "train_X, train_y = get_data(\"../data/a4_smvl_trn\")\n",
    "print \"loading validation data\"\n",
    "validation_X, validation_y = get_data(\"../data/a4_smvl_val\")\n",
    "print \"loading test data\"\n",
    "test_X, test_y = get_data(\"../data/a4_smvl_tst\")\n",
    "print \"loading data finished\""
   ]
  },
  {
   "cell_type": "code",
   "execution_count": 16,
   "metadata": {
    "collapsed": true
   },
   "outputs": [],
   "source": [
    "shuffle_idx = np.random.permutation(train_X.shape[0])\n",
    "train_X, train_y = train_X[shuffle_idx], train_y[shuffle_idx]\n",
    "shuffle_idx = np.random.permutation(validation_X.shape[0])\n",
    "validation_X, validation_y = validation_X[shuffle_idx], validation_y[shuffle_idx]\n",
    "shuffle_idx = np.random.permutation(test_X.shape[0])\n",
    "test_X, test_y = test_X[shuffle_idx], test_y[shuffle_idx]"
   ]
  },
  {
   "cell_type": "code",
   "execution_count": 5,
   "metadata": {
    "collapsed": true
   },
   "outputs": [],
   "source": [
    "\n",
    "train_X, train_y = train_X[:train_X.shape[0]/10], train_y[:train_X.shape[0]/10]\n",
    "validation_X, validation_y = validation_X[:validation_X.shape[0]/10], validation_y[:validation_X.shape[0]/10]\n",
    "test_X, test_y = test_X[:test_X.shape[0]/10], test_y[:test_X.shape[0]/10]"
   ]
  },
  {
   "cell_type": "code",
   "execution_count": 17,
   "metadata": {
    "collapsed": false
   },
   "outputs": [],
   "source": [
    "def train_clf_by_batches(clf, train_X, train_y):\n",
    "    clf.fit(train_X, train_y)\n",
    "    '''\n",
    "    start = 0\n",
    "    batch_size = train_X.shape[0]/10\n",
    "    seg_idx = 0\n",
    "    while start < train_X.shape[0]:\n",
    "        print \"doing seg: \", seg_idx\n",
    "        seg_idx += 1\n",
    "        batch_X, batch_y = train_X[start:min(start+batch_size,train_X.shape[0])], train_y[start:min(start+batch_size,train_X.shape[0])]\n",
    "        clf.partial_fit(batch_X, batch_y, classes=(-1,1))\n",
    "        start += batch_size\n",
    "    '''"
   ]
  },
  {
   "cell_type": "code",
   "execution_count": 18,
   "metadata": {
    "collapsed": false
   },
   "outputs": [
    {
     "name": "stdout",
     "output_type": "stream",
     "text": [
      "train Logistic regression on train data\n"
     ]
    }
   ],
   "source": [
    "print \"train Logistic regression on train data\"\n",
    "LR_clf = LogisticRegression(n_jobs = use_cpu)#, loss = 'log')\n",
    "train_clf_by_batches(LR_clf, train_X, train_y)\n",
    "with open(\"LR_param.dat\", \"w\") as f:\n",
    "    pickle.dump((LR_clf.coef_, LR_clf.intercept_), f)"
   ]
  },
  {
   "cell_type": "code",
   "execution_count": 19,
   "metadata": {
    "collapsed": false
   },
   "outputs": [
    {
     "name": "stdout",
     "output_type": "stream",
     "text": [
      "Accuracy:  0.908175114672\n",
      "Lost 0.237142791181\n",
      "Brier Score: 0.0684220752001\n"
     ]
    }
   ],
   "source": [
    "result = LR_clf.predict(test_X)\n",
    "acc = np.sum([1 if y_truth == y_predict else 0 for y_truth, y_predict in zip(test_y, result)]).astype(\"float32\")/len(test_y)\n",
    "print \"Accuracy: \", acc\n",
    "probas = LR_clf.predict_proba(test_X)\n",
    "lost = log_loss(test_y, probas)\n",
    "print 'Lost', lost\n",
    "print \"Brier Score:\", brier_score_loss(test_y, probas[:,1])"
   ]
  },
  {
   "cell_type": "code",
   "execution_count": 20,
   "metadata": {
    "collapsed": false
   },
   "outputs": [],
   "source": [
    "def plot_ROC(clf, test_X, test_y, C):\n",
    "    #print \"testing....\"\n",
    "    #test_labels = LR_clf.predict(test_X)\n",
    "    #print test_labels\n",
    "    test_probs = clf.predict_proba(test_X)\n",
    "    #print test_probs\n",
    "    #print max(map(lambda x: abs(x[0]-x[1]), test_probs))\n",
    "    #print test_probs\n",
    "    print \"plotting ROC\"\n",
    "    fpr, tpr, th = roc_curve(test_y, test_probs[:,1])\n",
    "    print \"compute AUC\"\n",
    "    auc_this = auc(fpr, tpr)\n",
    "    plt.plot( fpr[:], tpr[:], color = 'r',linewidth=5.0, label = \"AUC=\"+str(auc_this))\n",
    "    plt.plot( [x /1000.0 for x in range(1000)], [x /1000.0 for x in range(1000)], 'b--',linewidth=2.0)\n",
    "    plt.title(\"ROC, C=\"+str(C ))\n",
    "    plt.legend()\n",
    "    #print \"testing finished\"\n",
    "    plt.show()\n",
    "    print"
   ]
  },
  {
   "cell_type": "code",
   "execution_count": 21,
   "metadata": {
    "collapsed": false
   },
   "outputs": [
    {
     "name": "stdout",
     "output_type": "stream",
     "text": [
      "plotting ROC\n",
      "compute AUC\n"
     ]
    },
    {
     "data": {
      "image/png": "[encoded data removed]",
      "text/plain": [
       "<matplotlib.figure.Figure at 0x7f8de12c6150>"
      ]
     },
     "metadata": {},
     "output_type": "display_data"
    },
    {
     "name": "stdout",
     "output_type": "stream",
     "text": [
      "\n"
     ]
    }
   ],
   "source": [
    "plot_ROC(LR_clf, test_X, test_y, LR_clf.get_params()[\"C\"])"
   ]
  },
  {
   "cell_type": "code",
   "execution_count": 22,
   "metadata": {
    "collapsed": false
   },
   "outputs": [
    {
     "name": "stdout",
     "output_type": "stream",
     "text": [
      "training under c= 0.5\n",
      "plotting ROC\n",
      "compute AUC\n"
     ]
    },
    {
     "data": {
      "image/png": "[encoded data removed]",
      "text/plain": [
       "<matplotlib.figure.Figure at 0x7f8d60f66e50>"
      ]
     },
     "metadata": {},
     "output_type": "display_data"
    },
    {
     "name": "stdout",
     "output_type": "stream",
     "text": [
      "\n",
      "validation finished, with the highest acc:  0.907659298989  with C=  0.5\n"
     ]
    }
   ],
   "source": [
    "max_acc = 0\n",
    "best_clf = None\n",
    "max_C = 0\n",
    "#c_pool = [0.01, 0.1, 0.5, 1.0, 10.0]\n",
    "c_pool = [0.5]\n",
    "for c in c_pool:\n",
    "    print \"training under c=\", c\n",
    "    tmp_LR_clf = LogisticRegression(C=c, n_jobs = use_cpu)\n",
    "    train_clf_by_batches(tmp_LR_clf, train_X, train_y)\n",
    "    tmp_test_labels = tmp_LR_clf.predict(validation_X)\n",
    "    tmp_acc = np.sum([1 if y_truth == y_predict else 0 for y_truth, y_predict in zip(validation_y, tmp_test_labels)])*1.0/len(validation_y)\n",
    "    \n",
    "    if tmp_acc > max_acc:\n",
    "        best_clf = tmp_LR_clf\n",
    "        max_acc = tmp_acc\n",
    "        max_C = c\n",
    "    fig_new = plt.figure()\n",
    "    plot_ROC(tmp_LR_clf, test_X, test_y, tmp_LR_clf.get_params()[\"C\"])\n",
    "print \"validation finished, with the highest acc: \", max_acc, \" with C= \", max_C\n",
    "with open(\"best_clf_param.dat\", \"w\") as f:\n",
    "    pickle.dump((best_clf.coef_, best_clf.intercept_), f)\n",
    "\n"
   ]
  },
  {
   "cell_type": "code",
   "execution_count": 23,
   "metadata": {
    "collapsed": false
   },
   "outputs": [
    {
     "name": "stdout",
     "output_type": "stream",
     "text": [
      "Accuracy:  0.91107498371\n",
      "calibrated score (5-fold:) 0.225667403633\n",
      "plotting ROC\n",
      "compute AUC\n"
     ]
    },
    {
     "data": {
      "image/png": "[encoded data removed]",
      "text/plain": [
       "<matplotlib.figure.Figure at 0x7f8d5ee2fc50>"
      ]
     },
     "metadata": {},
     "output_type": "display_data"
    },
    {
     "name": "stdout",
     "output_type": "stream",
     "text": [
      "\n",
      "Brier Score: 0.0663818392683\n"
     ]
    }
   ],
   "source": [
    "clf_cv = CalibratedClassifierCV(best_clf, cv=\"prefit\", method='isotonic')\n",
    "#clf_cv = CalibratedClassifierCV(LR_clf, cv=\"prefit\", method='isotonic')\n",
    "\n",
    "train_clf_by_batches(clf_cv, validation_X, validation_y)\n",
    "result_cv = clf_cv.predict(test_X)\n",
    "acc = np.sum([1 if y_truth == y_predict else 0 for y_truth, y_predict in zip(test_y, result_cv)]).astype(\"float32\")/len(test_y)\n",
    "print \"Accuracy: \", acc\n",
    "probas_cv = clf_cv.predict_proba(test_X)\n",
    "cv_score = log_loss(test_y, probas_cv)\n",
    "print 'calibrated score (5-fold:)', cv_score\n",
    "base_clf = clf_cv.get_params()[\"base_estimator\"]\n",
    "plot_ROC(clf_cv, test_X, test_y, base_clf.get_params()[\"C\"])\n",
    "with open(\"cv_clf_param.dat\", \"w\") as f:\n",
    "    pickle.dump((base_clf.coef_, base_clf.intercept_), f)\n",
    "print \"Brier Score:\", brier_score_loss(test_y, probas_cv[:,1])"
   ]
  },
  {
   "cell_type": "code",
   "execution_count": null,
   "metadata": {
    "collapsed": true
   },
   "outputs": [],
   "source": []
  }
 ],
 "metadata": {
  "kernelspec": {
   "display_name": "Python 2",
   "language": "python",
   "name": "python2"
  },
  "language_info": {
   "codemirror_mode": {
    "name": "ipython",
    "version": 2
   },
   "file_extension": ".py",
   "mimetype": "text/x-python",
   "name": "python",
   "nbconvert_exporter": "python",
   "pygments_lexer": "ipython2",
   "version": "2.7.11"
  }
 },
 "nbformat": 4,
 "nbformat_minor": 0
}
