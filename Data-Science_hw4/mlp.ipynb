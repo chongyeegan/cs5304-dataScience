{
 "cells": [
  {
   "cell_type": "code",
   "execution_count": 1,
   "metadata": {
    "collapsed": false
   },
   "outputs": [
    {
     "name": "stdout",
     "output_type": "stream",
     "text": [
      "Populating the interactive namespace from numpy and matplotlib\n"
     ]
    }
   ],
   "source": [
    "%pylab inline"
   ]
  },
  {
   "cell_type": "code",
   "execution_count": 2,
   "metadata": {
    "collapsed": true
   },
   "outputs": [],
   "source": [
    "import numpy as np\n",
    "import tensorflow as tf\n",
    "import random\n",
    "from sklearn.externals.joblib import Memory\n",
    "from sklearn.datasets import load_svmlight_file\n",
    "from sklearn.linear_model import LogisticRegression\n",
    "from sklearn.cross_validation import StratifiedShuffleSplit\n",
    "from sklearn.metrics import roc_curve, auc, brier_score_loss, log_loss\n",
    "import matplotlib.pyplot as plt\n",
    "from multiprocessing import cpu_count\n",
    "import pickle"
   ]
  },
  {
   "cell_type": "code",
   "execution_count": 3,
   "metadata": {
    "collapsed": true
   },
   "outputs": [],
   "source": [
    "mem = Memory(\"./mycache\")\n",
    "PATH = \"../data/\"\n",
    "learning_rate = 0.001"
   ]
  },
  {
   "cell_type": "code",
   "execution_count": 4,
   "metadata": {
    "collapsed": true
   },
   "outputs": [],
   "source": [
    "@mem.cache\n",
    "def get_data(file_name):\n",
    "    data = load_svmlight_file(file_name)\n",
    "    print data[1].shape\n",
    "    return zip(data[0][:data[0].shape[0]/10,:], np.array(map(lambda x: [0,1] if x == -1 else [1,0], data[1][:data[0].shape[0]/10]))), data[0].shape[1]"
   ]
  },
  {
   "cell_type": "code",
   "execution_count": 5,
   "metadata": {
    "collapsed": false
   },
   "outputs": [],
   "source": [
    "sess = tf.Session()\n",
    "\n",
    "def variable_summaries(var, name):\n",
    "    \"\"\"Attach a lot of summaries to a Tensor.\"\"\"\n",
    "    with tf.name_scope('summaries'):\n",
    "      mean = tf.reduce_mean(var)\n",
    "      tf.scalar_summary('mean/' + name, mean)\n",
    "      with tf.name_scope('stddev'):\n",
    "        stddev = tf.sqrt(tf.reduce_sum(tf.square(var - mean)))\n",
    "      tf.scalar_summary('sttdev/' + name, stddev)\n",
    "      tf.scalar_summary('max/' + name, tf.reduce_max(var))\n",
    "      tf.scalar_summary('min/' + name, tf.reduce_min(var))\n",
    "      tf.histogram_summary(name, var)\n",
    "\n",
    "\n",
    "def weight_variable(shape, name):\n",
    "    \"\"\"Create a weight variable with appropriate initialization.\"\"\"\n",
    "    initial = tf.truncated_normal(shape, stddev=0.1)\n",
    "    return tf.Variable(initial, name = name)\n",
    "\n",
    "\n",
    "def bias_variable(shape, name):\n",
    "    \"\"\"Create a bias variable with appropriate initialization.\"\"\"\n",
    "    initial = tf.constant(0.1, shape=shape)\n",
    "    return tf.Variable(initial, name = name)\n",
    "\n",
    "\n",
    "def variable_summaries(var, name):\n",
    "    \"\"\"Attach a lot of summaries to a Tensor.\"\"\"\n",
    "    with tf.name_scope('summaries'):\n",
    "        mean = tf.reduce_mean(var)\n",
    "        tf.scalar_summary('mean/' + name, mean)\n",
    "        with tf.name_scope('stddev'):\n",
    "            stddev = tf.sqrt(tf.reduce_sum(tf.square(var - mean)))\n",
    "        tf.scalar_summary('sttdev/' + name, stddev)\n",
    "        tf.scalar_summary('max/' + name, tf.reduce_max(var))\n",
    "        tf.scalar_summary('min/' + name, tf.reduce_min(var))\n",
    " #       tf.histogram_summary(name, var)\n",
    "\n",
    "\n",
    "def nn_layer(input_tensor, input_dim, output_dim, layer_name, act=tf.nn.relu):\n",
    "    \"\"\"Reusable code for making a simple neural net layer.\n",
    "    It does a matrix multiply, bias add, and then uses relu to nonlinearize.\n",
    "    It also sets up name scoping so that the resultant graph is easy to read, and\n",
    "    adds a number of summary ops.\n",
    "    \"\"\"\n",
    "    # Adding a name scope ensures logical grouping of the layers in the graph.\n",
    "    with tf.name_scope(layer_name):\n",
    "        # This Variable will hold the state of the weights for the layer\n",
    "        with tf.name_scope('weights'):\n",
    "            weights = weight_variable([input_dim, output_dim], layer_name+\"_weights\")\n",
    "            variable_summaries(weights, layer_name + '/weights')\n",
    "        with tf.name_scope('biases'):\n",
    "            biases = bias_variable([output_dim], layer_name+\"_biases\")\n",
    "            variable_summaries(biases, layer_name + '/biases')\n",
    "        with tf.name_scope('Wx_plus_b'):\n",
    "            preactivate = tf.matmul(input_tensor, weights) + biases\n",
    "#            tf.histogram_summary(layer_name + '/pre_activations', preactivate)\n",
    "        activations = act(preactivate, 'activation')\n",
    "#        tf.histogram_summary(layer_name + '/activations', activations)\n",
    "        return activations"
   ]
  },
  {
   "cell_type": "markdown",
   "metadata": {},
   "source": [
    "# Loading Data"
   ]
  },
  {
   "cell_type": "code",
   "execution_count": 6,
   "metadata": {
    "collapsed": false
   },
   "outputs": [
    {
     "name": "stdout",
     "output_type": "stream",
     "text": [
      "loading train data\n"
     ]
    }
   ],
   "source": [
    "print \"loading train data\"\n",
    "train_x_y, feature_count = get_data(PATH + \"a4_smvl_trn\")\n",
    "#print \"read train: X:\", train_X.shape,\"y: \", train_y.shape"
   ]
  },
  {
   "cell_type": "code",
   "execution_count": 7,
   "metadata": {
    "collapsed": false
   },
   "outputs": [
    {
     "name": "stdout",
     "output_type": "stream",
     "text": [
      "loading test data\n",
      "loading data finished\n"
     ]
    }
   ],
   "source": [
    "print \"loading test data\"\n",
    "test_x_y, _ = get_data(PATH+\"a4_smvl_tst\")\n",
    "print \"loading data finished\"\n"
   ]
  },
  {
   "cell_type": "markdown",
   "metadata": {},
   "source": [
    "# Training Model"
   ]
  },
  {
   "cell_type": "code",
   "execution_count": 8,
   "metadata": {
    "collapsed": false
   },
   "outputs": [],
   "source": [
    "x_tensor = tf.placeholder(\"float\", [None, feature_count])\n",
    "y_tensor = tf.placeholder(\"float\", [None, 2])\n",
    "\n",
    "inter = nn_layer(x_tensor, feature_count, 50, 'layer1')\n",
    "y = nn_layer(inter, 50, 2, 'layer2', act=tf.nn.softmax)\n",
    "\n",
    "with tf.name_scope('cross_entropy'):\n",
    "    diff = y_tensor * tf.log(y)\n",
    "    with tf.name_scope('total'):\n",
    "        cross_entropy = -tf.reduce_mean(diff)\n",
    "        #cross_entropy = -tf.reduce_sum(y_tensor*tf.log(tf.clip_by_value(y,1e-10,1.0)))\n",
    "    tf.scalar_summary('cross entropy', cross_entropy)\n",
    "\n",
    "with tf.name_scope('train'):\n",
    "    train_step = tf.train.AdamOptimizer(learning_rate).minimize(cross_entropy)\n",
    "\n",
    "with tf.name_scope('accuracy'):\n",
    "    with tf.name_scope('correct_prediction'):\n",
    "        correct_prediction = tf.equal(tf.argmax(y, 1), tf.argmax(y_tensor, 1))\n",
    "    with tf.name_scope('accuracy'):\n",
    "        accuracy = tf.reduce_mean(tf.cast(correct_prediction, tf.float32))\n",
    "    tf.scalar_summary('accuracy', accuracy)"
   ]
  },
  {
   "cell_type": "code",
   "execution_count": null,
   "metadata": {
    "collapsed": false
   },
   "outputs": [],
   "source": [
    "merged = tf.merge_all_summaries()\n",
    "init = tf.initialize_all_variables()\n",
    "sess.run(init)\n",
    "train_writer = tf.train.SummaryWriter('/tmp/log', sess.graph)\n",
    "\n",
    "batch_size = 100\n",
    "counter = 0\n",
    "saver = tf.train.Saver()\n",
    "for epoch in range(25):\n",
    "    random.shuffle(train_x_y)\n",
    "    start = 0\n",
    "    while start < len(train_x_y):\n",
    "        batch = train_x_y[start:start+batch_size]\n",
    "        start = start+batch_size\n",
    "        labels = []\n",
    "        feats_np = np.zeros((len(batch),feature_count))\n",
    "        for i,f_l in enumerate(batch):\n",
    "            feats,label  = f_l\n",
    "            \n",
    "            feats_np[i,:] = feats.todense()\n",
    "            labels.append(label)\n",
    "        labels_np = np.vstack(labels)\n",
    "        feed_dict = {x_tensor:feats_np, y_tensor:labels_np}\n",
    "        # print x_tensor,y_tensor,feats_np.shape,labels_np.shape\n",
    "        summary,_ = sess.run([merged,train_step],feed_dict=feed_dict)\n",
    "        train_writer.add_summary(summary, counter)\n",
    "        counter += 1\n",
    "        # prediction = sess.run(y,feed_dict=feed_dict)\n",
    "        # print len(prediction)\n",
    "    print epoch\n",
    "    if epoch%10 == 0 and epoch>0:\n",
    "        save_path = saver.save(sess, \"/tmp/model_\"+str(epoch)+\".ckpt\")\n",
    "        print \"save \", epoch, \"th variables to \", save_path"
   ]
  },
  {
   "cell_type": "markdown",
   "metadata": {},
   "source": [
    "# Model Evaluation"
   ]
  },
  {
   "cell_type": "markdown",
   "metadata": {},
   "source": [
    "Calculating Probabilities"
   ]
  },
  {
   "cell_type": "code",
   "execution_count": 13,
   "metadata": {
    "collapsed": false
   },
   "outputs": [],
   "source": [
    "del train_x_y"
   ]
  },
  {
   "cell_type": "code",
   "execution_count": null,
   "metadata": {
    "collapsed": true
   },
   "outputs": [],
   "source": [
    "#test_x_y = np.array(test_x_y)\n",
    "#test_X = test_x_y[0,:]\n",
    "#probabilities=y\n",
    "#probas = probabilities.eval(feed_dict=test_X, session=sess)\n",
    "#print \"probabilities\", probas"
   ]
  },
  {
   "cell_type": "code",
   "execution_count": 46,
   "metadata": {
    "collapsed": false
   },
   "outputs": [],
   "source": [
    "probas, test_y = [], []\n",
    "\n",
    "start = 0\n",
    "batch_size = 100\n",
    "while start < len(test_x_y):\n",
    "    batch = test_x_y[start:start+batch_size]\n",
    "    start = start+batch_size\n",
    "    labels = []\n",
    "    feats_np = np.zeros((len(batch),feature_count))\n",
    "    for i,f_l in enumerate(batch):\n",
    "        feats,label  = f_l\n",
    "        feats_np[i,:] = feats.todense()\n",
    "        labels.append(label)\n",
    "    labels_np = np.vstack(labels)\n",
    "    probas.append(y.eval(feed_dict={x_tensor:feats_np}, session=sess))\n",
    "    test_y.append(labels_np)"
   ]
  },
  {
   "cell_type": "code",
   "execution_count": 49,
   "metadata": {
    "collapsed": false
   },
   "outputs": [],
   "source": [
    "probas = np.vstack(probas)\n",
    "test_y = np.vstack(test_y)"
   ]
  },
  {
   "cell_type": "code",
   "execution_count": 56,
   "metadata": {
    "collapsed": false
   },
   "outputs": [
    {
     "data": {
      "text/plain": [
       "(248011,)"
      ]
     },
     "execution_count": 56,
     "metadata": {},
     "output_type": "execute_result"
    }
   ],
   "source": [
    "probas[:,1].shape"
   ]
  },
  {
   "cell_type": "code",
   "execution_count": 34,
   "metadata": {
    "collapsed": true
   },
   "outputs": [],
   "source": []
  },
  {
   "cell_type": "markdown",
   "metadata": {},
   "source": [
    "ROC/AUC/bier"
   ]
  },
  {
   "cell_type": "code",
   "execution_count": 82,
   "metadata": {
    "collapsed": true
   },
   "outputs": [],
   "source": [
    "def plot_ROC(probs, test_y):\n",
    "    print \"plotting ROC\"\n",
    "    fpr, tpr, th = roc_curve(test_y, probs)\n",
    "    print \"compute AUC\"\n",
    "    auc_this = auc(fpr, tpr)\n",
    "    plt.plot( fpr[:], tpr[:], color = 'r',linewidth=5.0, label = \"AUC=\"+str(auc_this))\n",
    "    plt.plot( [x /1000.0 for x in range(1000)], [x /1000.0 for x in range(1000)], 'b--',linewidth=2.0)\n",
    "    plt.title(\"ROC_MLP\")\n",
    "    plt.legend()\n",
    "    #print \"testing finished\"\n",
    "    plt.show()\n",
    "    print"
   ]
  },
  {
   "cell_type": "code",
   "execution_count": 79,
   "metadata": {
    "collapsed": false
   },
   "outputs": [
    {
     "name": "stdout",
     "output_type": "stream",
     "text": [
      "Lost 0.361089439128\n",
      "Brier Score: 0.0713458523226\n"
     ]
    }
   ],
   "source": [
    "lost = log_loss(test_y, probas)\n",
    "print 'Lost', lost\n",
    "print \"Brier Score:\", brier_score_loss(test_y[:,1], probas[:,1])"
   ]
  },
  {
   "cell_type": "code",
   "execution_count": 65,
   "metadata": {
    "collapsed": false
   },
   "outputs": [
    {
     "name": "stdout",
     "output_type": "stream",
     "text": [
      "248011\n"
     ]
    }
   ],
   "source": [
    "print len(test_y)"
   ]
  },
  {
   "cell_type": "code",
   "execution_count": 83,
   "metadata": {
    "collapsed": false
   },
   "outputs": [
    {
     "name": "stdout",
     "output_type": "stream",
     "text": [
      "plotting ROC\n",
      "compute AUC\n"
     ]
    },
    {
     "data": {
      "image/png": "[encoded data removed]",
      "text/plain": [
       "<matplotlib.figure.Figure at 0x7f4c84a8a750>"
      ]
     },
     "metadata": {},
     "output_type": "display_data"
    },
    {
     "name": "stdout",
     "output_type": "stream",
     "text": [
      "\n"
     ]
    }
   ],
   "source": [
    "plot_ROC(probas[:,1], test_y[:,1])"
   ]
  },
  {
   "cell_type": "code",
   "execution_count": null,
   "metadata": {
    "collapsed": true
   },
   "outputs": [],
   "source": []
  },
  {
   "cell_type": "markdown",
   "metadata": {},
   "source": [
    "# Appendix"
   ]
  },
  {
   "cell_type": "code",
   "execution_count": null,
   "metadata": {
    "collapsed": true
   },
   "outputs": [],
   "source": [
    "# Accuracy was not calculated due to memory limitations. And also because assignment did not ask for it\n",
    "\n",
    "correct_prediction = tf.equal(tf.argmax(y, 1), tf.argmax(y_tensor, 1))\n",
    "# Calculate accuracy\n",
    "accuracy = tf.reduce_mean(tf.cast(correct_prediction, \"float\"))\n",
    "print \"Accuracy : \", accuracy.eval({x_tensor: test_X, y: test_y}, session=sess)\n"
   ]
  },
  {
   "cell_type": "code",
   "execution_count": null,
   "metadata": {
    "collapsed": false
   },
   "outputs": [],
   "source": [
    "test_X = []\n",
    "for i, x_y in enumerate(test_x_y):\n",
    "    test_X.append(x_y[0].eval())\n",
    "test_X = np.array(test_X)\n",
    "print test_X"
   ]
  }
 ],
 "metadata": {
  "kernelspec": {
   "display_name": "Python 2",
   "language": "python",
   "name": "python2"
  },
  "language_info": {
   "codemirror_mode": {
    "name": "ipython",
    "version": 2
   },
   "file_extension": ".py",
   "mimetype": "text/x-python",
   "name": "python",
   "nbconvert_exporter": "python",
   "pygments_lexer": "ipython2",
   "version": "2.7.11"
  }
 },
 "nbformat": 4,
 "nbformat_minor": 0
}
