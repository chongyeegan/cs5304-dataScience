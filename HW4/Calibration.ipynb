{
 "cells": [
  {
   "cell_type": "code",
   "execution_count": 1,
   "metadata": {
    "collapsed": true
   },
   "outputs": [],
   "source": [
    "# Fix all the imports\n",
    "\n",
    "%matplotlib inline\n",
    "\n",
    "import numpy as np\n",
    "import sys\n",
    "import csv\n",
    "import gzip\n",
    "import matplotlib.pyplot as plt\n",
    "import matplotlib as mpl\n",
    "\n",
    "from collections import defaultdict\n",
    "from scipy.special import expit\n",
    "from sklearn.metrics import brier_score_loss\n",
    "\n",
    "# Beta Distributions for Assignment Value Algorithm\n",
    "from scipy.stats import beta\n",
    "\n",
    "# Logistic Regression for Platt Scaling\n",
    "from sklearn.linear_model import LogisticRegression as LR\n",
    "\n",
    "# Isotonic Regression\n",
    "from sklearn.isotonic import IsotonicRegression as IR"
   ]
  },
  {
   "cell_type": "code",
   "execution_count": 2,
   "metadata": {
    "collapsed": true
   },
   "outputs": [],
   "source": [
    "# Plot function \n",
    "def plotCurve(posCls,negCls,file,title):\n",
    "  \"\"\"Plot the calibration curve\"\"\"\n",
    "  plt.figure()\n",
    "  x = []\n",
    "  y = []\n",
    "\n",
    "  for tr, pos in posCls.iteritems():\n",
    "    ac = float(pos)/(float(pos)+float(negCls[tr]))\n",
    "    x.append(tr)\n",
    "    y.append(ac)\n",
    "  ab = np.arange(0.,1.1,0.1)\n",
    "  plt.plot(x, y, 'bo',ab,ab,'r--')\n",
    "  plt.ylabel('Obs. Probability')\n",
    "  plt.xlabel('Est. Probability')\n",
    "  plt.title(title)\n",
    "  plt.savefig(file,format='png')\n",
    "  plt.show()"
   ]
  },
  {
   "cell_type": "code",
   "execution_count": 3,
   "metadata": {
    "collapsed": true
   },
   "outputs": [],
   "source": [
    "# Helper for computing observed vs estimated rates\n",
    "def computeObservedRates(labels,scores):\n",
    "  \"\"\"Given Labels and Scores, estimate local observed rates\"\"\"\n",
    "  posImp = defaultdict(int) # Dicts to store counts of +ve events by score bucket\n",
    "  negImp = defaultdict(int)\n",
    "  ab = np.arange(0.,1.1,0.1)\n",
    "  for i in range(len(ab)-1):\n",
    "    idx = np.argwhere((scores < ab[i+1]) & (scores >= ab[i])).flatten()\n",
    "    foo=labels[idx] # all the ones with scores in this range\n",
    "    scr=scores[idx]\n",
    "    key = np.mean(scr) # Mean of all scores in this range is the bucket key. We could have used the mean of the range as the key\n",
    "    posImp[key] = len(foo[foo==1.0]) # of these, the ones that are positive\n",
    "    negImp[key] = len(foo)-len(foo[foo==1.0]) # the ones that are negative\n",
    "\n",
    "  return (posImp,negImp)  "
   ]
  },
  {
   "cell_type": "code",
   "execution_count": 4,
   "metadata": {
    "collapsed": true
   },
   "outputs": [],
   "source": [
    "# Read validation records in\n",
    "records  = np.genfromtxt('mlp_val')\n",
    "lblval = records[0:-1,1]\n",
    "scrval = records[0:-1,0]\n",
    "\n",
    "records = np.genfromtxt('mlp_tst')\n",
    "lbltst = records[0:-1,1]\n",
    "scrtst = records[0:-1,0]"
   ]
  },
  {
   "cell_type": "code",
   "execution_count": 5,
   "metadata": {
    "collapsed": false
   },
   "outputs": [
    {
     "data": {
      "text/plain": [
       "0.074155914495762476"
      ]
     },
     "execution_count": 5,
     "metadata": {},
     "output_type": "execute_result"
    }
   ],
   "source": [
    "# Compute test Brier Loss before calibration\n",
    "bscore = brier_score_loss(lbltst,scrtst)\n",
    "bscore"
   ]
  },
  {
   "cell_type": "code",
   "execution_count": 6,
   "metadata": {
    "collapsed": false
   },
   "outputs": [
    {
     "data": {
      "text/plain": [
       "LogisticRegression(C=1.0, class_weight=None, dual=False, fit_intercept=True,\n",
       "          intercept_scaling=1, max_iter=100, multi_class='ovr', n_jobs=1,\n",
       "          penalty='l2', random_state=None, solver='liblinear', tol=0.0001,\n",
       "          verbose=0, warm_start=False)"
      ]
     },
     "execution_count": 6,
     "metadata": {},
     "output_type": "execute_result"
    }
   ],
   "source": [
    "# Fit the Platt Scaling Model \n",
    "lr = LR() \n",
    "lr.fit( scrval.reshape( -1, 1 ), lblval )     # LR needs X to be 2-dimensional"
   ]
  },
  {
   "cell_type": "code",
   "execution_count": 7,
   "metadata": {
    "collapsed": false
   },
   "outputs": [
    {
     "data": {
      "image/png": "[encoded data removed]",
      "text/plain": [
       "<matplotlib.figure.Figure at 0x10df7b210>"
      ]
     },
     "metadata": {},
     "output_type": "display_data"
    }
   ],
   "source": [
    "# Plot the uncalibrated curve for test data prior to calibrating\n",
    "(posImp,negImp) = computeObservedRates(lbltst,scrtst)\n",
    "plotCurve(posImp,negImp,'Test-uncalibrated.png','Test:Uncalibrated')"
   ]
  },
  {
   "cell_type": "code",
   "execution_count": 8,
   "metadata": {
    "collapsed": false
   },
   "outputs": [
    {
     "data": {
      "text/plain": [
       "0.073018381184655867"
      ]
     },
     "execution_count": 8,
     "metadata": {},
     "output_type": "execute_result"
    }
   ],
   "source": [
    "# Calibrate and plot\n",
    "p_calibrated = lr.predict_proba( scrtst.reshape( -1, 1 ))[:,1]\n",
    "\n",
    "bscore = brier_score_loss(lbltst,p_calibrated)\n",
    "bscore"
   ]
  },
  {
   "cell_type": "code",
   "execution_count": 9,
   "metadata": {
    "collapsed": false
   },
   "outputs": [
    {
     "data": {
      "image/png": "[encoded data removed]",
      "text/plain": [
       "<matplotlib.figure.Figure at 0x10efbba10>"
      ]
     },
     "metadata": {},
     "output_type": "display_data"
    }
   ],
   "source": [
    "(posCor,negCor) = computeObservedRates(lbltst,p_calibrated)\n",
    "plotCurve(posCor,negCor,'Platt-calibrated.png','Platt:Calibrated')"
   ]
  },
  {
   "cell_type": "code",
   "execution_count": 10,
   "metadata": {
    "collapsed": false
   },
   "outputs": [
    {
     "data": {
      "text/plain": [
       "0.067713902262133058"
      ]
     },
     "execution_count": 10,
     "metadata": {},
     "output_type": "execute_result"
    }
   ],
   "source": [
    "# Fit Isotonic Model and predict\n",
    "ir = IR( out_of_bounds = 'clip' )\n",
    "ir.fit( scrval, lblval )\n",
    "p_calibrated = ir.transform( scrtst )   # or ir.fit( p_test ), that's the same thing\n",
    "bscore = brier_score_loss(lbltst,p_calibrated)\n",
    "bscore"
   ]
  },
  {
   "cell_type": "code",
   "execution_count": 11,
   "metadata": {
    "collapsed": false
   },
   "outputs": [
    {
     "data": {
      "image/png": "[encoded data removed]",
      "text/plain": [
       "<matplotlib.figure.Figure at 0x12a4ef110>"
      ]
     },
     "metadata": {},
     "output_type": "display_data"
    }
   ],
   "source": [
    "(posCor,negCor) = computeObservedRates(lbltst,p_calibrated)\n",
    "plotCurve(posCor,negCor,'Isotonic-calibrated.png','Isotonic:Calibrated')"
   ]
  },
  {
   "cell_type": "code",
   "execution_count": 12,
   "metadata": {
    "collapsed": false
   },
   "outputs": [],
   "source": [
    "# Learn the Beta distribution Parameters and calibrate\n",
    "# Compute the mean and std of the 0 and 1 classes  \n",
    "tmpPos = scrval[np.where(scrval >= 0.5)]\n",
    "tmpNeg = scrval[np.where(scrval < 0.5)]\n",
    "N0 = len(tmpNeg)\n",
    "N1 = len(tmpPos)\n",
    "pa0 = 1.0 - np.mean(tmpNeg)\n",
    "pa1 = np.mean(tmpPos)\n",
    "\n",
    "# Variance of the two classes. Estimate the dispersion parameter of the beta distribution\n",
    "v1 = np.sum(np.power((tmpPos - pa1),2.0)) / (N1 - 1.)\n",
    "v0 = np.sum(np.power((1. - pa0 - tmpNeg),2.0)) / (N0 - 1.)\n",
    "na0 = pa0*(1-pa0)/v0 - 1\n",
    "na1 = pa1*(1-pa1)/v1 - 1"
   ]
  },
  {
   "cell_type": "code",
   "execution_count": 13,
   "metadata": {
    "collapsed": false
   },
   "outputs": [],
   "source": [
    "# Estimate the correct classification rates for the two classes\n",
    "corNeg = lblval[np.where((scrval < 0.5) & (lblval == 0.0))]\n",
    "corPos = lblval[np.where((scrval >= 0.5) & (lblval == 1.0))]\n",
    "\n",
    "pt0 = float(len(corNeg))/N0\n",
    "pt1 = float(len(corPos))/N1\n",
    "\n",
    "# Now do grid search to find the best Beta distribution dispersion parameter\n",
    "# No grid search as the correction objective function was remarkably stable\n",
    "nt1 = na1\n",
    "nt0 = na0"
   ]
  },
  {
   "cell_type": "code",
   "execution_count": 14,
   "metadata": {
    "collapsed": true
   },
   "outputs": [],
   "source": [
    "# Shape parameters of the two beta distributions. O is observed. C is calibrated. \n",
    "alphaO0 = pa0 * na0\n",
    "betaO0  = na0*(1.0-pa0)\n",
    "bfO0 = beta(alphaO0,betaO0) # Frozen function at this value to simplify code.\n",
    "\n",
    "alphaO1 = pa1 * na1\n",
    "betaO1  = na1*(1.0-pa1)\n",
    "bfO1 = beta(alphaO1,betaO1)\n",
    "\n",
    "alphaC0 = pt0 * nt0\n",
    "betaC0  = nt0*(1.0-pt0)\n",
    "bfC0 = beta(alphaC0,betaC0)\n",
    "\n",
    "alphaC1 = pt1 * nt1\n",
    "betaC1  = nt1*(1.0-pt1)\n",
    "bfC1 = beta(alphaC1,betaC1)\n"
   ]
  },
  {
   "cell_type": "code",
   "execution_count": 15,
   "metadata": {
    "collapsed": false
   },
   "outputs": [
    {
     "data": {
      "text/plain": [
       "0.068178712409306175"
      ]
     },
     "execution_count": 15,
     "metadata": {},
     "output_type": "execute_result"
    }
   ],
   "source": [
    "calscr = np.where(scrtst >= 0.5,bfC1.ppf(bfO1.cdf(scrtst)),1.0 - bfC0.ppf(bfO0.cdf(1.0-scrtst)))\n",
    "(posCor,negCor) = computeObservedRates(lbltst,calscr)\n",
    "bscore = brier_score_loss(lbltst,calscr)\n",
    "bscore"
   ]
  },
  {
   "cell_type": "code",
   "execution_count": 16,
   "metadata": {
    "collapsed": false
   },
   "outputs": [
    {
     "data": {
      "image/png": "[encoded data removed]",
      "text/plain": [
       "<matplotlib.figure.Figure at 0x128816310>"
      ]
     },
     "metadata": {},
     "output_type": "display_data"
    }
   ],
   "source": [
    "# Plot the calibrated output\n",
    "plotCurve(posCor,negCor,'AVA-calibrated.png','AVA:Calibrated')"
   ]
  },
  {
   "cell_type": "code",
   "execution_count": null,
   "metadata": {
    "collapsed": true
   },
   "outputs": [],
   "source": []
  }
 ],
 "metadata": {
  "kernelspec": {
   "display_name": "Python 2",
   "language": "python",
   "name": "python2"
  },
  "language_info": {
   "codemirror_mode": {
    "name": "ipython",
    "version": 2
   },
   "file_extension": ".py",
   "mimetype": "text/x-python",
   "name": "python",
   "nbconvert_exporter": "python",
   "pygments_lexer": "ipython2",
   "version": "2.7.11"
  }
 },
 "nbformat": 4,
 "nbformat_minor": 0
}
