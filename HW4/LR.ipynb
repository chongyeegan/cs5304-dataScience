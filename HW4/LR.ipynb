{
 "cells": [
  {
   "cell_type": "code",
   "execution_count": 1,
   "metadata": {
    "collapsed": false
   },
   "outputs": [
    {
     "name": "stdout",
     "output_type": "stream",
     "text": [
      "Populating the interactive namespace from numpy and matplotlib\n"
     ]
    }
   ],
   "source": [
    "%pylab inline"
   ]
  },
  {
   "cell_type": "code",
   "execution_count": 2,
   "metadata": {
    "collapsed": true
   },
   "outputs": [],
   "source": [
    "from sklearn.externals.joblib import Memory\n",
    "from sklearn.datasets import load_svmlight_file\n",
    "from sklearn.linear_model import LogisticRegression\n",
    "from sklearn.cross_validation import StratifiedShuffleSplit\n",
    "from sklearn.metrics import roc_curve\n",
    "import matplotlib.pyplot as plt\n",
    "import matplotlib\n",
    "from multiprocessing import cpu_count\n",
    "from sklearn.calibration import CalibratedClassifierCV\n",
    "from sklearn.metrics import log_loss\n",
    "import numpy as np"
   ]
  },
  {
   "cell_type": "code",
   "execution_count": null,
   "metadata": {
    "collapsed": false
   },
   "outputs": [
    {
     "name": "stdout",
     "output_type": "stream",
     "text": [
      "loading train data\n",
      "loading validation data\n",
      "loading test data"
     ]
    }
   ],
   "source": [
    "mem = Memory(\"./mycache\")\n",
    "\n",
    "@mem.cache\n",
    "def get_data(file_name):\n",
    "    data = load_svmlight_file(file_name)\n",
    "    return data[0], data[1]\n",
    "\n",
    "print \"loading train data\"\n",
    "train_X, train_y = get_data(\"./data/a4_smvl_trn\")\n",
    "print \"loading validation data\"\n",
    "validation_X, validation_y = get_data(\"./data/a4_smvl_val\")\n",
    "print \"loading test data\"\n",
    "test_X, test_y = get_data(\"./data/a4_smvl_tst\")\n",
    "print \"loading data finished\""
   ]
  },
  {
   "cell_type": "code",
   "execution_count": 52,
   "metadata": {
    "collapsed": false
   },
   "outputs": [],
   "source": [
    "#train_X, train_y = train_X[:10000], train_y[:10000]\n",
    "#validation_X, validation_y = validation_X[:5000], validation_y[:5000]\n",
    "#test_X, test_y = test_X[:3000], test_y[:3000]"
   ]
  },
  {
   "cell_type": "code",
   "execution_count": null,
   "metadata": {
    "collapsed": false
   },
   "outputs": [],
   "source": [
    "print \"train Logistic regression on train data\"\n",
    "LR_clf = LogisticRegression(n_jobs = -1)\n",
    "LR_clf.fit(train_X, train_y)"
   ]
  },
  {
   "cell_type": "code",
   "execution_count": null,
   "metadata": {
    "collapsed": false
   },
   "outputs": [],
   "source": [
    "result = LR_clf.predict(test_X)\n",
    "acc = np.sum([1 if y_truth == y_predict else 0 for y_truth, y_predict in zip(test_y, result)]).astype(\"float32\")/len(test_y)\n",
    "print \"Accuracy: \", acc\n",
    "probas = LR_clf.predict_proba(test_X)\n",
    "lost = log_loss(test_y, probas)\n",
    "print 'Lost', lost"
   ]
  },
  {
   "cell_type": "code",
   "execution_count": null,
   "metadata": {
    "collapsed": false
   },
   "outputs": [],
   "source": [
    "print \"testing....\"\n",
    "test_labels = LR_clf.predict(test_X)\n",
    "test_probs = LR_clf.predict_proba(test_X)\n",
    "print \"plotting ROC\"\n",
    "print test_labels.shape, test_probs[:,1].shape\n",
    "tpr, fpr, th = roc_curve(test_labels, test_probs[:,0])\n",
    "print tpr.shape\n",
    "print fpr.shape\n",
    "#print zip(tpr[:], fpr[:])\n",
    "plt.plot( fpr[:], tpr[:], color = 'r',linewidth=5.0)\n",
    "print \"testing finished\""
   ]
  },
  {
   "cell_type": "code",
   "execution_count": 69,
   "metadata": {
    "collapsed": false
   },
   "outputs": [
    {
     "name": "stdout",
     "output_type": "stream",
     "text": [
      "validation finished, with the highest acc:  0.936  with C=  0.05\n"
     ]
    }
   ],
   "source": [
    "max_acc = 0\n",
    "best_clf = None\n",
    "max_C = 0\n",
    "c_pool = [0.01, 0.05,0.1, 0.5, 1.0, 5.0, 10.0]\n",
    "for c in c_pool:\n",
    "    tmp_LR_clf = LogisticRegression(C=c, n_jobs = -1)\n",
    "    tmp_LR_clf.fit(train_X, train_y)\n",
    "    tmp_test_labels = tmp_LR_clf.predict(validation_X)\n",
    "    tmp_acc = np.sum([1 if y_truth == y_predict else 0 for y_truth, y_predict in zip(validation_y, tmp_test_labels)])*1.0/len(validation_y)\n",
    "    \n",
    "    if tmp_acc > max_acc:\n",
    "        best_clf = tmp_LR_clf\n",
    "        max_acc = tmp_acc\n",
    "        max_C = c\n",
    "print \"validation finished, with the highest acc: \", max_acc, \" with C= \", max_C"
   ]
  },
  {
   "cell_type": "code",
   "execution_count": 71,
   "metadata": {
    "collapsed": false
   },
   "outputs": [
    {
     "name": "stdout",
     "output_type": "stream",
     "text": [
      "Accuracy:  0.892333333333\n",
      "calibrated score (10-fold:) 0.296104210094\n"
     ]
    }
   ],
   "source": [
    "clf_cv = CalibratedClassifierCV(LR_clf, cv=5, method='isotonic')\n",
    "clf_cv.fit(train_X, train_y)\n",
    "result_cv = clf_cv.predict(test_X)\n",
    "acc = np.sum([1 if y_truth == y_predict else 0 for y_truth, y_predict in zip(test_y, result_cv)]).astype(\"float32\")/len(test_y)\n",
    "print \"Accuracy: \", acc\n",
    "probas_cv = clf_cv.predict_proba(test_X)\n",
    "cv_score = log_loss(test_y, probas_cv)\n",
    "print 'calibrated score (5-fold:)', cv_score\n"
   ]
  },
  {
   "cell_type": "code",
   "execution_count": null,
   "metadata": {
    "collapsed": true
   },
   "outputs": [],
   "source": []
  }
 ],
 "metadata": {
  "kernelspec": {
   "display_name": "Python 2",
   "language": "python",
   "name": "python2"
  },
  "language_info": {
   "codemirror_mode": {
    "name": "ipython",
    "version": 2
   },
   "file_extension": ".py",
   "mimetype": "text/x-python",
   "name": "python",
   "nbconvert_exporter": "python",
   "pygments_lexer": "ipython2",
   "version": "2.7.11"
  }
 },
 "nbformat": 4,
 "nbformat_minor": 0
}
