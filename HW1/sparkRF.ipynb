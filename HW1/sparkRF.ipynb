{
 "cells": [
  {
   "cell_type": "code",
   "execution_count": 8,
   "metadata": {
    "collapsed": false
   },
   "outputs": [],
   "source": [
    "%matplotlib inline\n",
    "from pyspark import SparkContext, SparkConf\n",
    "from pyspark.mllib.evaluation import BinaryClassificationMetrics\n",
    "from pyspark.mllib.regression import LabeledPoint as DataPoint\n",
    "from pyspark.mllib.tree import RandomForest, DecisionTreeModel\n",
    "import sys, csv\n",
    "import numpy as np\n",
    "from sklearn.metrics import roc_curve\n",
    "TEST_DATA = \"../data/preprocessed_train_5M.csv\"\n",
    "import matplotlib.pyplot as plt"
   ]
  },
  {
   "cell_type": "code",
   "execution_count": 2,
   "metadata": {
    "collapsed": false
   },
   "outputs": [
    {
     "name": "stdout",
     "output_type": "stream",
     "text": [
      "0.249192191871\n"
     ]
    }
   ],
   "source": [
    "def ParseData(row):\n",
    "\tdata = [float(feature) for feature in row.split(\",\")]\n",
    "\treturn DataPoint(data[0], data[1:20])\n",
    "\n",
    "#if __name__ == \"__main__\":\n",
    "\t#conf = SparkConf().setAppName(\"regressiontest\").setMaster(\"org.apache.spark.deploy.master.Master\")\n",
    "\t#sc = SparkContext(conf=conf)\n",
    "data = sc.textFile(TEST_DATA).map(ParseData)\n",
    "train, test = data.randomSplit([0.6, 0.4], seed = 11L)\n",
    "\n",
    "RF = RandomForest.trainClassifier(train, numClasses=2, categoricalFeaturesInfo={},\n",
    "                                     numTrees=10, featureSubsetStrategy=\"auto\",\n",
    "                                     impurity='gini', maxDepth=5, maxBins=32)\n",
    "\n",
    "predictions = RF.predict(test.map(lambda x: x.features))\n",
    "labelsAndPredictions = test.map(lambda lp: lp.label).zip(predictions)\n",
    "\n",
    "testErr = labelsAndPredictions.filter(lambda (v, p): v != p).count() / float(test.count())\n",
    "print testErr"
   ]
  },
  {
   "cell_type": "code",
   "execution_count": 11,
   "metadata": {
    "collapsed": false
   },
   "outputs": [
    {
     "name": "stdout",
     "output_type": "stream",
     "text": [
      "OMG RF\n"
     ]
    }
   ],
   "source": [
    "print \"OMG RF\"\n",
    "trees = RF._java_model.trees()\n",
    "ntrees = RF.numTrees()\n",
    "scores = DecisionTreeModel(trees[0]).predict(test.map(lambda x: x.features))\n",
    "\n",
    "# For each decision tree, apply its prediction to the entire dataset and\n",
    "# accumulate the results using 'zip'.\n",
    "for i in range(1,ntrees):\n",
    "    dtm = DecisionTreeModel(trees[i])\n",
    "    scores = scores.zip(dtm.predict(test.map(lambda x: x.features)))\n",
    "    scores = scores.map(lambda x: max(x[0], x[1]))\n",
    "scores = scores.map(lambda x: x/ntrees)\n",
    "labelsAndScores = test.map(lambda lp: lp.label).zip(scores)\n",
    "\n"
   ]
  },
  {
   "cell_type": "code",
   "execution_count": 12,
   "metadata": {
    "collapsed": false
   },
   "outputs": [
    {
     "name": "stdout",
     "output_type": "stream",
     "text": [
      "collect data\n"
     ]
    }
   ],
   "source": [
    "print \"collect data\"\n",
    "labelsAndScores_list = labelsAndScores.collect()\n",
    "labelsAndScores_list = np.array(labelsAndScores_list)"
   ]
  },
  {
   "cell_type": "code",
   "execution_count": 13,
   "metadata": {
    "collapsed": false
   },
   "outputs": [
    {
     "data": {
      "text/plain": [
       "[<matplotlib.lines.Line2D at 0x115ad9f10>]"
      ]
     },
     "execution_count": 13,
     "metadata": {},
     "output_type": "execute_result"
    },
    {
     "data": {
      "image/png": "[encoded data removed]",
      "text/plain": [
       "<matplotlib.figure.Figure at 0x106035210>"
      ]
     },
     "metadata": {},
     "output_type": "display_data"
    }
   ],
   "source": [
    "tpr, fpr, th = roc_curve(labelsAndScores_list[:,0].flatten(), labelsAndScores_list[:,1].flatten())\n",
    "plt.figure(1)\n",
    "plt.plot(tpr, fpr)"
   ]
  },
  {
   "cell_type": "code",
   "execution_count": null,
   "metadata": {
    "collapsed": true
   },
   "outputs": [],
   "source": []
  }
 ],
 "metadata": {
  "kernelspec": {
   "display_name": "Python 2",
   "language": "python",
   "name": "python2"
  },
  "language_info": {
   "codemirror_mode": {
    "name": "ipython",
    "version": 2
   },
   "file_extension": ".py",
   "mimetype": "text/x-python",
   "name": "python",
   "nbconvert_exporter": "python",
   "pygments_lexer": "ipython2",
   "version": "2.7.11"
  }
 },
 "nbformat": 4,
 "nbformat_minor": 0
}
