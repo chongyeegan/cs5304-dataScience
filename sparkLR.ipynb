{
 "cells": [
  {
   "cell_type": "code",
   "execution_count": 8,
   "metadata": {
    "collapsed": true
   },
   "outputs": [],
   "source": [
    "%matplotlib inline"
   ]
  },
  {
   "cell_type": "code",
   "execution_count": 1,
   "metadata": {
    "collapsed": true
   },
   "outputs": [],
   "source": [
    "from pyspark import SparkContext, SparkConf\n",
    "from pyspark.mllib.evaluation import BinaryClassificationMetrics\n",
    "from pyspark.mllib.regression import LabeledPoint as DataPoint\n",
    "from pyspark.mllib.classification import LogisticRegressionWithSGD as LogisticRegression\n",
    "import sys\n",
    "from sklearn.metrics import roc_curve\n",
    "import numpy as np\n",
    "import matplotlib.pyplot as plt"
   ]
  },
  {
   "cell_type": "code",
   "execution_count": 2,
   "metadata": {
    "collapsed": false
   },
   "outputs": [
    {
     "name": "stdout",
     "output_type": "stream",
     "text": [
      "0.252278521335\n"
     ]
    }
   ],
   "source": [
    "TEST_DATA = \"../data/preprocessed_train_5M.csv\"\n",
    "iteration = 100\n",
    "\n",
    "def ParseData(row):\n",
    "    data = [float(feature) for feature in row.split(\",\")]\n",
    "    return DataPoint(data[0], data[1:])\n",
    "    \n",
    "data = sc.textFile(TEST_DATA).map(ParseData)\n",
    "train, test = data.randomSplit([0.8, 0.2], seed = 11L)\n",
    "train.cache()\n",
    "#print train.map(lambda x: x.features).mean()\n",
    "#print train.map(lambda x: x.features).stdev()\n",
    "LR = LogisticRegression.train(train, iteration)\n",
    "predictions = LR.predict(test.map(lambda x: x.features))\n",
    "labelsAndPredictions = test.map(lambda lp: lp.label).zip(predictions)\n",
    "testErr = labelsAndPredictions.filter(lambda (v, p): v != p).count() / float(test.count())\n",
    "print testErr"
   ]
  },
  {
   "cell_type": "code",
   "execution_count": 3,
   "metadata": {
    "collapsed": false
   },
   "outputs": [],
   "source": [
    "LR.clearThreshold()\n",
    "scores = LR.predict(test.map(lambda x: x.features))\n",
    "labelsAndScores = test.map(lambda lp: lp.label).zip(scores)\n",
    "labelsAndScores_list = labelsAndScores.collect()\n"
   ]
  },
  {
   "cell_type": "code",
   "execution_count": 4,
   "metadata": {
    "collapsed": false
   },
   "outputs": [],
   "source": [
    "labelsAndScores_list = np.array(labelsAndScores_list)"
   ]
  },
  {
   "cell_type": "code",
   "execution_count": 5,
   "metadata": {
    "collapsed": false
   },
   "outputs": [
    {
     "name": "stdout",
     "output_type": "stream",
     "text": [
      "(1001417, 2)\n"
     ]
    }
   ],
   "source": [
    "print labelsAndScores_list.shape"
   ]
  },
  {
   "cell_type": "code",
   "execution_count": 9,
   "metadata": {
    "collapsed": false
   },
   "outputs": [
    {
     "data": {
      "text/plain": [
       "[<matplotlib.lines.Line2D at 0x108693e10>]"
      ]
     },
     "execution_count": 9,
     "metadata": {},
     "output_type": "execute_result"
    },
    {
     "data": {
      "image/png": "[encoded data removed]",
      "text/plain": [
       "<matplotlib.figure.Figure at 0x108358450>"
      ]
     },
     "metadata": {},
     "output_type": "display_data"
    }
   ],
   "source": [
    "tpr, fpr, th = roc_curve(labelsAndScores_list[:,0].flatten(), labelsAndScores_list[:,1].flatten())\n",
    "plt.figure(1)\n",
    "plt.plot(tpr, fpr)"
   ]
  },
  {
   "cell_type": "code",
   "execution_count": 7,
   "metadata": {
    "collapsed": false
   },
   "outputs": [
    {
     "name": "stdout",
     "output_type": "stream",
     "text": [
      "[ 1.  0.  1. ...,  0.  0.  0.]\n"
     ]
    }
   ],
   "source": [
    "print labelsAndScores_list[:,0].flatten()"
   ]
  },
  {
   "cell_type": "code",
   "execution_count": null,
   "metadata": {
    "collapsed": true
   },
   "outputs": [],
   "source": []
  }
 ],
 "metadata": {
  "kernelspec": {
   "display_name": "Python 2",
   "language": "python",
   "name": "python2"
  },
  "language_info": {
   "codemirror_mode": {
    "name": "ipython",
    "version": 2
   },
   "file_extension": ".py",
   "mimetype": "text/x-python",
   "name": "python",
   "nbconvert_exporter": "python",
   "pygments_lexer": "ipython2",
   "version": "2.7.11"
  }
 },
 "nbformat": 4,
 "nbformat_minor": 0
}
